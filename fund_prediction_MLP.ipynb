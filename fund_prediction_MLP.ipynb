{
  "nbformat": 4,
  "nbformat_minor": 0,
  "metadata": {
    "colab": {
      "name": "fund_prediction_MLP.ipynb",
      "provenance": [],
      "authorship_tag": "ABX9TyMHFx/DZ26hv9p3I7sYRz7R",
      "include_colab_link": true
    },
    "kernelspec": {
      "name": "python3",
      "display_name": "Python 3"
    }
  },
  "cells": [
    {
      "cell_type": "markdown",
      "metadata": {
        "id": "view-in-github",
        "colab_type": "text"
      },
      "source": [
        "<a href=\"https://colab.research.google.com/github/castorhyun/DeepLearningZeroToAll/blob/master/fund_prediction_MLP.ipynb\" target=\"_parent\"><img src=\"https://colab.research.google.com/assets/colab-badge.svg\" alt=\"Open In Colab\"/></a>"
      ]
    },
    {
      "cell_type": "code",
      "metadata": {
        "id": "9V5-FdLnVpOc",
        "colab_type": "code",
        "outputId": "cc8d9263-da06-4eb3-d753-a939d231e775",
        "colab": {
          "base_uri": "https://localhost:8080/",
          "height": 35
        }
      },
      "source": [
        "from google.colab import drive\n",
        "\n",
        "drive.mount('/content/gdrive')"
      ],
      "execution_count": 1,
      "outputs": [
        {
          "output_type": "stream",
          "text": [
            "Drive already mounted at /content/gdrive; to attempt to forcibly remount, call drive.mount(\"/content/gdrive\", force_remount=True).\n"
          ],
          "name": "stdout"
        }
      ]
    },
    {
      "cell_type": "code",
      "metadata": {
        "id": "1WWvQ_HRWA92",
        "colab_type": "code",
        "outputId": "8a8db50a-d2b9-4bdf-9da1-b4dd37f22e05",
        "colab": {
          "base_uri": "https://localhost:8080/",
          "height": 35
        }
      },
      "source": [
        "cd /content/gdrive/My Drive/Colab Notebooks/0011.데이터모델링/Data_2017"
      ],
      "execution_count": 2,
      "outputs": [
        {
          "output_type": "stream",
          "text": [
            "/content/gdrive/My Drive/Colab Notebooks/0011.데이터모델링/Data_2017\n"
          ],
          "name": "stdout"
        }
      ]
    },
    {
      "cell_type": "code",
      "metadata": {
        "id": "Av5qKk2zFW56",
        "colab_type": "code",
        "colab": {}
      },
      "source": [
        ""
      ],
      "execution_count": 0,
      "outputs": []
    },
    {
      "cell_type": "markdown",
      "metadata": {
        "id": "Armr41OYWJxa",
        "colab_type": "text"
      },
      "source": [
        "라이브러리 import\n"
      ]
    },
    {
      "cell_type": "code",
      "metadata": {
        "id": "i_IFBGDLWIZW",
        "colab_type": "code",
        "colab": {}
      },
      "source": [
        "import pandas as pd\n"
      ],
      "execution_count": 0,
      "outputs": []
    },
    {
      "cell_type": "code",
      "metadata": {
        "id": "MbwSLS0_WA_6",
        "colab_type": "code",
        "colab": {}
      },
      "source": [
        "data_in = pd.read_csv(\"cvt_201701.csv\")\n",
        "data_in = pd.concat([data_in, pd.read_csv(\"cvt_201702.csv\")], ignore_index=True)"
      ],
      "execution_count": 0,
      "outputs": []
    },
    {
      "cell_type": "code",
      "metadata": {
        "id": "8CmPrPtJchln",
        "colab_type": "code",
        "outputId": "20fa3b08-2306-4996-cffc-74d5509ba6f0",
        "colab": {
          "base_uri": "https://localhost:8080/",
          "height": 305
        }
      },
      "source": [
        "data_in.head()"
      ],
      "execution_count": 5,
      "outputs": [
        {
          "output_type": "execute_result",
          "data": {
            "text/html": [
              "<div>\n",
              "<style scoped>\n",
              "    .dataframe tbody tr th:only-of-type {\n",
              "        vertical-align: middle;\n",
              "    }\n",
              "\n",
              "    .dataframe tbody tr th {\n",
              "        vertical-align: top;\n",
              "    }\n",
              "\n",
              "    .dataframe thead th {\n",
              "        text-align: right;\n",
              "    }\n",
              "</style>\n",
              "<table border=\"1\" class=\"dataframe\">\n",
              "  <thead>\n",
              "    <tr style=\"text-align: right;\">\n",
              "      <th></th>\n",
              "      <th>sno</th>\n",
              "      <th>age</th>\n",
              "      <th>postno</th>\n",
              "      <th>trxMM</th>\n",
              "      <th>sincdt</th>\n",
              "      <th>early_cnt</th>\n",
              "      <th>mid_cnt</th>\n",
              "      <th>late_cnt</th>\n",
              "      <th>resv_amt</th>\n",
              "      <th>cnt</th>\n",
              "      <th>A0_cnt</th>\n",
              "      <th>C0_cnt</th>\n",
              "      <th>CK_cnt</th>\n",
              "      <th>D0_cnt</th>\n",
              "      <th>DT_cnt</th>\n",
              "      <th>G0_cnt</th>\n",
              "      <th>jibul_psb_jan</th>\n",
              "      <th>jan</th>\n",
              "      <th>bfmm_ac_jan</th>\n",
              "      <th>m_avjn</th>\n",
              "      <th>bfmm_ac_avjn</th>\n",
              "      <th>lm3_ac_avjn</th>\n",
              "      <th>lm6_ac_avjn</th>\n",
              "      <th>lm12_ac_avjn</th>\n",
              "      <th>jibul_psb_jan_1</th>\n",
              "      <th>jan_1</th>\n",
              "      <th>bfmm_ac_jan_1</th>\n",
              "      <th>m_avjn_1</th>\n",
              "      <th>bfmm_ac_avjn_1</th>\n",
              "      <th>lm3_ac_avjn_1</th>\n",
              "      <th>lm6_ac_avjn_1</th>\n",
              "      <th>lm12_ac_avjn_1</th>\n",
              "    </tr>\n",
              "  </thead>\n",
              "  <tbody>\n",
              "    <tr>\n",
              "      <th>0</th>\n",
              "      <td>2577</td>\n",
              "      <td>48</td>\n",
              "      <td>28696</td>\n",
              "      <td>거래없음</td>\n",
              "      <td>0</td>\n",
              "      <td>0</td>\n",
              "      <td>0</td>\n",
              "      <td>0</td>\n",
              "      <td>0</td>\n",
              "      <td>0</td>\n",
              "      <td>0</td>\n",
              "      <td>0</td>\n",
              "      <td>0</td>\n",
              "      <td>0</td>\n",
              "      <td>0</td>\n",
              "      <td>0</td>\n",
              "      <td>0</td>\n",
              "      <td>0</td>\n",
              "      <td>0</td>\n",
              "      <td>0</td>\n",
              "      <td>0</td>\n",
              "      <td>0</td>\n",
              "      <td>0</td>\n",
              "      <td>0</td>\n",
              "      <td>16996</td>\n",
              "      <td>1704570</td>\n",
              "      <td>207356</td>\n",
              "      <td>254474</td>\n",
              "      <td>401483</td>\n",
              "      <td>290049</td>\n",
              "      <td>351430</td>\n",
              "      <td>273399</td>\n",
              "    </tr>\n",
              "    <tr>\n",
              "      <th>1</th>\n",
              "      <td>5214</td>\n",
              "      <td>42</td>\n",
              "      <td>11776</td>\n",
              "      <td>거래없음</td>\n",
              "      <td>0</td>\n",
              "      <td>0</td>\n",
              "      <td>0</td>\n",
              "      <td>0</td>\n",
              "      <td>0</td>\n",
              "      <td>0</td>\n",
              "      <td>0</td>\n",
              "      <td>0</td>\n",
              "      <td>0</td>\n",
              "      <td>0</td>\n",
              "      <td>0</td>\n",
              "      <td>0</td>\n",
              "      <td>0</td>\n",
              "      <td>0</td>\n",
              "      <td>0</td>\n",
              "      <td>0</td>\n",
              "      <td>0</td>\n",
              "      <td>0</td>\n",
              "      <td>0</td>\n",
              "      <td>0</td>\n",
              "      <td>2756388</td>\n",
              "      <td>1936892</td>\n",
              "      <td>1858233</td>\n",
              "      <td>3805573</td>\n",
              "      <td>3518152</td>\n",
              "      <td>3712840</td>\n",
              "      <td>4123438</td>\n",
              "      <td>4393251</td>\n",
              "    </tr>\n",
              "    <tr>\n",
              "      <th>2</th>\n",
              "      <td>6559</td>\n",
              "      <td>25</td>\n",
              "      <td>21988</td>\n",
              "      <td>거래없음</td>\n",
              "      <td>0</td>\n",
              "      <td>0</td>\n",
              "      <td>0</td>\n",
              "      <td>0</td>\n",
              "      <td>0</td>\n",
              "      <td>0</td>\n",
              "      <td>0</td>\n",
              "      <td>0</td>\n",
              "      <td>0</td>\n",
              "      <td>0</td>\n",
              "      <td>0</td>\n",
              "      <td>0</td>\n",
              "      <td>0</td>\n",
              "      <td>0</td>\n",
              "      <td>0</td>\n",
              "      <td>0</td>\n",
              "      <td>0</td>\n",
              "      <td>0</td>\n",
              "      <td>0</td>\n",
              "      <td>0</td>\n",
              "      <td>0</td>\n",
              "      <td>3217980</td>\n",
              "      <td>831151</td>\n",
              "      <td>1191239</td>\n",
              "      <td>416157</td>\n",
              "      <td>746375</td>\n",
              "      <td>1261631</td>\n",
              "      <td>730455</td>\n",
              "    </tr>\n",
              "    <tr>\n",
              "      <th>3</th>\n",
              "      <td>7694</td>\n",
              "      <td>55</td>\n",
              "      <td>28511</td>\n",
              "      <td>거래없음</td>\n",
              "      <td>0</td>\n",
              "      <td>0</td>\n",
              "      <td>0</td>\n",
              "      <td>0</td>\n",
              "      <td>0</td>\n",
              "      <td>0</td>\n",
              "      <td>0</td>\n",
              "      <td>0</td>\n",
              "      <td>0</td>\n",
              "      <td>0</td>\n",
              "      <td>0</td>\n",
              "      <td>0</td>\n",
              "      <td>0</td>\n",
              "      <td>0</td>\n",
              "      <td>0</td>\n",
              "      <td>0</td>\n",
              "      <td>0</td>\n",
              "      <td>0</td>\n",
              "      <td>0</td>\n",
              "      <td>0</td>\n",
              "      <td>16954023</td>\n",
              "      <td>7817629</td>\n",
              "      <td>8348041</td>\n",
              "      <td>6587579</td>\n",
              "      <td>8024913</td>\n",
              "      <td>7208232</td>\n",
              "      <td>7328595</td>\n",
              "      <td>7848239</td>\n",
              "    </tr>\n",
              "    <tr>\n",
              "      <th>4</th>\n",
              "      <td>6376</td>\n",
              "      <td>44</td>\n",
              "      <td>42908</td>\n",
              "      <td>거래없음</td>\n",
              "      <td>0</td>\n",
              "      <td>0</td>\n",
              "      <td>0</td>\n",
              "      <td>0</td>\n",
              "      <td>0</td>\n",
              "      <td>0</td>\n",
              "      <td>0</td>\n",
              "      <td>0</td>\n",
              "      <td>0</td>\n",
              "      <td>0</td>\n",
              "      <td>0</td>\n",
              "      <td>0</td>\n",
              "      <td>0</td>\n",
              "      <td>0</td>\n",
              "      <td>0</td>\n",
              "      <td>0</td>\n",
              "      <td>0</td>\n",
              "      <td>0</td>\n",
              "      <td>0</td>\n",
              "      <td>0</td>\n",
              "      <td>-3109041</td>\n",
              "      <td>126702</td>\n",
              "      <td>188095</td>\n",
              "      <td>248065</td>\n",
              "      <td>265718</td>\n",
              "      <td>442455</td>\n",
              "      <td>523083</td>\n",
              "      <td>417348</td>\n",
              "    </tr>\n",
              "  </tbody>\n",
              "</table>\n",
              "</div>"
            ],
            "text/plain": [
              "    sno  age  postno  ... lm3_ac_avjn_1  lm6_ac_avjn_1  lm12_ac_avjn_1\n",
              "0  2577   48   28696  ...        290049         351430          273399\n",
              "1  5214   42   11776  ...       3712840        4123438         4393251\n",
              "2  6559   25   21988  ...        746375        1261631          730455\n",
              "3  7694   55   28511  ...       7208232        7328595         7848239\n",
              "4  6376   44   42908  ...        442455         523083          417348\n",
              "\n",
              "[5 rows x 32 columns]"
            ]
          },
          "metadata": {
            "tags": []
          },
          "execution_count": 5
        }
      ]
    },
    {
      "cell_type": "code",
      "metadata": {
        "id": "scHLu-fWFYRy",
        "colab_type": "code",
        "outputId": "d554451c-cfbd-47b3-d770-8811bcd46d4b",
        "colab": {
          "base_uri": "https://localhost:8080/",
          "height": 35
        }
      },
      "source": [
        "from tqdm import tqdm\n",
        "\n",
        "# 각 거래채널별 거래건수를 합산 - 거래가 있는 경우 1 , 없으면 0\n",
        "trx_cnt = list(data_in['A0_cnt'] + data_in['C0_cnt'] + data_in['CK_cnt'] + data_in['D0_cnt'] + data_in['DT_cnt'] + data_in['G0_cnt'])\n",
        "\n",
        "ip_yn = []\n",
        "\n",
        "for i in tqdm(range(len(trx_cnt))):\n",
        "  if trx_cnt[i] > 0:\n",
        "    ip_yn.append(1)\n",
        "  else:\n",
        "    ip_yn.append(0)\n",
        "\n",
        "\n",
        "data_in['ip_yn'] = ip_yn"
      ],
      "execution_count": 6,
      "outputs": [
        {
          "output_type": "stream",
          "text": [
            "100%|██████████| 763312/763312 [00:00<00:00, 2292044.81it/s]\n"
          ],
          "name": "stderr"
        }
      ]
    },
    {
      "cell_type": "code",
      "metadata": {
        "id": "9SsdMtgUcWYb",
        "colab_type": "code",
        "colab": {}
      },
      "source": [
        "trx_df = data_in[data_in['ip_yn'] == 1]\n",
        "notrx_df = data_in[data_in['ip_yn'] == 0]"
      ],
      "execution_count": 0,
      "outputs": []
    },
    {
      "cell_type": "code",
      "metadata": {
        "id": "1kBC92_rlKcf",
        "colab_type": "code",
        "colab": {}
      },
      "source": [
        "# 학습데이터 비율 조정\n",
        "# 입금거래데이터 50,948\n",
        "# 비입금데이터 71만건\n",
        "\n",
        "filt_notrx_df = notrx_df.iloc[0:50948]\n",
        "\n",
        "new_train_data = pd.concat([trx_df, filt_notrx_df])\n",
        "new_train_data = new_train_data.sort_values(by=['sno'], axis=0, ascending=True)\n",
        "\n"
      ],
      "execution_count": 0,
      "outputs": []
    },
    {
      "cell_type": "code",
      "metadata": {
        "id": "_FIUvKXBm-u3",
        "colab_type": "code",
        "colab": {
          "base_uri": "https://localhost:8080/",
          "height": 496
        },
        "outputId": "4eba57f4-e4a1-42ef-d957-f14ae93bbac1"
      },
      "source": [
        "new_train_data"
      ],
      "execution_count": 9,
      "outputs": [
        {
          "output_type": "execute_result",
          "data": {
            "text/html": [
              "<div>\n",
              "<style scoped>\n",
              "    .dataframe tbody tr th:only-of-type {\n",
              "        vertical-align: middle;\n",
              "    }\n",
              "\n",
              "    .dataframe tbody tr th {\n",
              "        vertical-align: top;\n",
              "    }\n",
              "\n",
              "    .dataframe thead th {\n",
              "        text-align: right;\n",
              "    }\n",
              "</style>\n",
              "<table border=\"1\" class=\"dataframe\">\n",
              "  <thead>\n",
              "    <tr style=\"text-align: right;\">\n",
              "      <th></th>\n",
              "      <th>sno</th>\n",
              "      <th>age</th>\n",
              "      <th>postno</th>\n",
              "      <th>trxMM</th>\n",
              "      <th>sincdt</th>\n",
              "      <th>early_cnt</th>\n",
              "      <th>mid_cnt</th>\n",
              "      <th>late_cnt</th>\n",
              "      <th>resv_amt</th>\n",
              "      <th>cnt</th>\n",
              "      <th>A0_cnt</th>\n",
              "      <th>C0_cnt</th>\n",
              "      <th>CK_cnt</th>\n",
              "      <th>D0_cnt</th>\n",
              "      <th>DT_cnt</th>\n",
              "      <th>G0_cnt</th>\n",
              "      <th>jibul_psb_jan</th>\n",
              "      <th>jan</th>\n",
              "      <th>bfmm_ac_jan</th>\n",
              "      <th>m_avjn</th>\n",
              "      <th>bfmm_ac_avjn</th>\n",
              "      <th>lm3_ac_avjn</th>\n",
              "      <th>lm6_ac_avjn</th>\n",
              "      <th>lm12_ac_avjn</th>\n",
              "      <th>jibul_psb_jan_1</th>\n",
              "      <th>jan_1</th>\n",
              "      <th>bfmm_ac_jan_1</th>\n",
              "      <th>m_avjn_1</th>\n",
              "      <th>bfmm_ac_avjn_1</th>\n",
              "      <th>lm3_ac_avjn_1</th>\n",
              "      <th>lm6_ac_avjn_1</th>\n",
              "      <th>lm12_ac_avjn_1</th>\n",
              "      <th>ip_yn</th>\n",
              "    </tr>\n",
              "  </thead>\n",
              "  <tbody>\n",
              "    <tr>\n",
              "      <th>42085</th>\n",
              "      <td>0</td>\n",
              "      <td>53</td>\n",
              "      <td>3941</td>\n",
              "      <td>거래없음</td>\n",
              "      <td>0</td>\n",
              "      <td>0</td>\n",
              "      <td>0</td>\n",
              "      <td>0</td>\n",
              "      <td>0</td>\n",
              "      <td>0</td>\n",
              "      <td>0</td>\n",
              "      <td>0</td>\n",
              "      <td>0</td>\n",
              "      <td>0</td>\n",
              "      <td>0</td>\n",
              "      <td>0</td>\n",
              "      <td>0</td>\n",
              "      <td>0</td>\n",
              "      <td>0</td>\n",
              "      <td>0</td>\n",
              "      <td>0</td>\n",
              "      <td>0</td>\n",
              "      <td>0</td>\n",
              "      <td>0</td>\n",
              "      <td>117630</td>\n",
              "      <td>0</td>\n",
              "      <td>0</td>\n",
              "      <td>0</td>\n",
              "      <td>0</td>\n",
              "      <td>0</td>\n",
              "      <td>75333</td>\n",
              "      <td>37872</td>\n",
              "      <td>0</td>\n",
              "    </tr>\n",
              "    <tr>\n",
              "      <th>625705</th>\n",
              "      <td>0</td>\n",
              "      <td>49</td>\n",
              "      <td>6920</td>\n",
              "      <td>201702</td>\n",
              "      <td>20170227</td>\n",
              "      <td>2</td>\n",
              "      <td>0</td>\n",
              "      <td>0</td>\n",
              "      <td>3000000</td>\n",
              "      <td>2</td>\n",
              "      <td>0</td>\n",
              "      <td>0</td>\n",
              "      <td>0</td>\n",
              "      <td>2</td>\n",
              "      <td>0</td>\n",
              "      <td>0</td>\n",
              "      <td>-26435126</td>\n",
              "      <td>0</td>\n",
              "      <td>1354507</td>\n",
              "      <td>595998</td>\n",
              "      <td>17434337</td>\n",
              "      <td>6768282</td>\n",
              "      <td>4561905</td>\n",
              "      <td>3012896</td>\n",
              "      <td>-26435126</td>\n",
              "      <td>0</td>\n",
              "      <td>1354507</td>\n",
              "      <td>595998</td>\n",
              "      <td>17434337</td>\n",
              "      <td>6768282</td>\n",
              "      <td>4561905</td>\n",
              "      <td>3012896</td>\n",
              "      <td>1</td>\n",
              "    </tr>\n",
              "    <tr>\n",
              "      <th>626634</th>\n",
              "      <td>0</td>\n",
              "      <td>32</td>\n",
              "      <td>14016</td>\n",
              "      <td>201702</td>\n",
              "      <td>20170213</td>\n",
              "      <td>2</td>\n",
              "      <td>0</td>\n",
              "      <td>0</td>\n",
              "      <td>433000</td>\n",
              "      <td>2</td>\n",
              "      <td>0</td>\n",
              "      <td>0</td>\n",
              "      <td>0</td>\n",
              "      <td>0</td>\n",
              "      <td>2</td>\n",
              "      <td>0</td>\n",
              "      <td>0</td>\n",
              "      <td>32780</td>\n",
              "      <td>5068052</td>\n",
              "      <td>361470</td>\n",
              "      <td>891181</td>\n",
              "      <td>506433</td>\n",
              "      <td>690512</td>\n",
              "      <td>656198</td>\n",
              "      <td>0</td>\n",
              "      <td>32780</td>\n",
              "      <td>5068052</td>\n",
              "      <td>361470</td>\n",
              "      <td>891181</td>\n",
              "      <td>506433</td>\n",
              "      <td>690512</td>\n",
              "      <td>656198</td>\n",
              "      <td>1</td>\n",
              "    </tr>\n",
              "    <tr>\n",
              "      <th>523687</th>\n",
              "      <td>0</td>\n",
              "      <td>32</td>\n",
              "      <td>14016</td>\n",
              "      <td>201702</td>\n",
              "      <td>20170213</td>\n",
              "      <td>2</td>\n",
              "      <td>0</td>\n",
              "      <td>0</td>\n",
              "      <td>463000</td>\n",
              "      <td>2</td>\n",
              "      <td>0</td>\n",
              "      <td>0</td>\n",
              "      <td>0</td>\n",
              "      <td>0</td>\n",
              "      <td>2</td>\n",
              "      <td>0</td>\n",
              "      <td>0</td>\n",
              "      <td>32780</td>\n",
              "      <td>5068052</td>\n",
              "      <td>361470</td>\n",
              "      <td>891181</td>\n",
              "      <td>506433</td>\n",
              "      <td>690512</td>\n",
              "      <td>656198</td>\n",
              "      <td>0</td>\n",
              "      <td>32780</td>\n",
              "      <td>5068052</td>\n",
              "      <td>361470</td>\n",
              "      <td>891181</td>\n",
              "      <td>506433</td>\n",
              "      <td>690512</td>\n",
              "      <td>656198</td>\n",
              "      <td>1</td>\n",
              "    </tr>\n",
              "    <tr>\n",
              "      <th>5868</th>\n",
              "      <td>0</td>\n",
              "      <td>65</td>\n",
              "      <td>21357</td>\n",
              "      <td>거래없음</td>\n",
              "      <td>0</td>\n",
              "      <td>0</td>\n",
              "      <td>0</td>\n",
              "      <td>0</td>\n",
              "      <td>0</td>\n",
              "      <td>0</td>\n",
              "      <td>0</td>\n",
              "      <td>0</td>\n",
              "      <td>0</td>\n",
              "      <td>0</td>\n",
              "      <td>0</td>\n",
              "      <td>0</td>\n",
              "      <td>0</td>\n",
              "      <td>0</td>\n",
              "      <td>0</td>\n",
              "      <td>0</td>\n",
              "      <td>0</td>\n",
              "      <td>0</td>\n",
              "      <td>0</td>\n",
              "      <td>0</td>\n",
              "      <td>0</td>\n",
              "      <td>1932493</td>\n",
              "      <td>1940983</td>\n",
              "      <td>1938518</td>\n",
              "      <td>1406293</td>\n",
              "      <td>1418835</td>\n",
              "      <td>918979</td>\n",
              "      <td>945847</td>\n",
              "      <td>0</td>\n",
              "    </tr>\n",
              "    <tr>\n",
              "      <th>...</th>\n",
              "      <td>...</td>\n",
              "      <td>...</td>\n",
              "      <td>...</td>\n",
              "      <td>...</td>\n",
              "      <td>...</td>\n",
              "      <td>...</td>\n",
              "      <td>...</td>\n",
              "      <td>...</td>\n",
              "      <td>...</td>\n",
              "      <td>...</td>\n",
              "      <td>...</td>\n",
              "      <td>...</td>\n",
              "      <td>...</td>\n",
              "      <td>...</td>\n",
              "      <td>...</td>\n",
              "      <td>...</td>\n",
              "      <td>...</td>\n",
              "      <td>...</td>\n",
              "      <td>...</td>\n",
              "      <td>...</td>\n",
              "      <td>...</td>\n",
              "      <td>...</td>\n",
              "      <td>...</td>\n",
              "      <td>...</td>\n",
              "      <td>...</td>\n",
              "      <td>...</td>\n",
              "      <td>...</td>\n",
              "      <td>...</td>\n",
              "      <td>...</td>\n",
              "      <td>...</td>\n",
              "      <td>...</td>\n",
              "      <td>...</td>\n",
              "      <td>...</td>\n",
              "    </tr>\n",
              "    <tr>\n",
              "      <th>741749</th>\n",
              "      <td>9999</td>\n",
              "      <td>51</td>\n",
              "      <td>18440</td>\n",
              "      <td>201702</td>\n",
              "      <td>20170217</td>\n",
              "      <td>1</td>\n",
              "      <td>0</td>\n",
              "      <td>0</td>\n",
              "      <td>100000</td>\n",
              "      <td>1</td>\n",
              "      <td>1</td>\n",
              "      <td>0</td>\n",
              "      <td>0</td>\n",
              "      <td>0</td>\n",
              "      <td>0</td>\n",
              "      <td>0</td>\n",
              "      <td>0</td>\n",
              "      <td>6267341</td>\n",
              "      <td>0</td>\n",
              "      <td>302407</td>\n",
              "      <td>0</td>\n",
              "      <td>94082</td>\n",
              "      <td>46781</td>\n",
              "      <td>23198</td>\n",
              "      <td>0</td>\n",
              "      <td>6267341</td>\n",
              "      <td>0</td>\n",
              "      <td>302407</td>\n",
              "      <td>0</td>\n",
              "      <td>94082</td>\n",
              "      <td>46781</td>\n",
              "      <td>23198</td>\n",
              "      <td>1</td>\n",
              "    </tr>\n",
              "    <tr>\n",
              "      <th>10307</th>\n",
              "      <td>9999</td>\n",
              "      <td>24</td>\n",
              "      <td>7524</td>\n",
              "      <td>거래없음</td>\n",
              "      <td>0</td>\n",
              "      <td>0</td>\n",
              "      <td>0</td>\n",
              "      <td>0</td>\n",
              "      <td>0</td>\n",
              "      <td>0</td>\n",
              "      <td>0</td>\n",
              "      <td>0</td>\n",
              "      <td>0</td>\n",
              "      <td>0</td>\n",
              "      <td>0</td>\n",
              "      <td>0</td>\n",
              "      <td>0</td>\n",
              "      <td>0</td>\n",
              "      <td>0</td>\n",
              "      <td>0</td>\n",
              "      <td>0</td>\n",
              "      <td>0</td>\n",
              "      <td>0</td>\n",
              "      <td>0</td>\n",
              "      <td>0</td>\n",
              "      <td>400069</td>\n",
              "      <td>176096</td>\n",
              "      <td>627632</td>\n",
              "      <td>586626</td>\n",
              "      <td>603465</td>\n",
              "      <td>557097</td>\n",
              "      <td>896967</td>\n",
              "      <td>0</td>\n",
              "    </tr>\n",
              "    <tr>\n",
              "      <th>218678</th>\n",
              "      <td>9999</td>\n",
              "      <td>10</td>\n",
              "      <td>6514</td>\n",
              "      <td>201701</td>\n",
              "      <td>20170126</td>\n",
              "      <td>1</td>\n",
              "      <td>0</td>\n",
              "      <td>0</td>\n",
              "      <td>210000</td>\n",
              "      <td>1</td>\n",
              "      <td>1</td>\n",
              "      <td>0</td>\n",
              "      <td>0</td>\n",
              "      <td>0</td>\n",
              "      <td>0</td>\n",
              "      <td>0</td>\n",
              "      <td>0</td>\n",
              "      <td>100345</td>\n",
              "      <td>200318</td>\n",
              "      <td>119676</td>\n",
              "      <td>109983</td>\n",
              "      <td>111177</td>\n",
              "      <td>73669</td>\n",
              "      <td>39287</td>\n",
              "      <td>0</td>\n",
              "      <td>100345</td>\n",
              "      <td>200318</td>\n",
              "      <td>119676</td>\n",
              "      <td>109983</td>\n",
              "      <td>111177</td>\n",
              "      <td>73669</td>\n",
              "      <td>39287</td>\n",
              "      <td>1</td>\n",
              "    </tr>\n",
              "    <tr>\n",
              "      <th>379621</th>\n",
              "      <td>9999</td>\n",
              "      <td>28</td>\n",
              "      <td>14663</td>\n",
              "      <td>201701</td>\n",
              "      <td>20170126</td>\n",
              "      <td>2</td>\n",
              "      <td>0</td>\n",
              "      <td>0</td>\n",
              "      <td>1000000</td>\n",
              "      <td>2</td>\n",
              "      <td>0</td>\n",
              "      <td>0</td>\n",
              "      <td>0</td>\n",
              "      <td>0</td>\n",
              "      <td>2</td>\n",
              "      <td>0</td>\n",
              "      <td>15308</td>\n",
              "      <td>486185</td>\n",
              "      <td>91460</td>\n",
              "      <td>158160</td>\n",
              "      <td>146247</td>\n",
              "      <td>117977</td>\n",
              "      <td>101311</td>\n",
              "      <td>177744</td>\n",
              "      <td>15308</td>\n",
              "      <td>486185</td>\n",
              "      <td>91460</td>\n",
              "      <td>158160</td>\n",
              "      <td>146247</td>\n",
              "      <td>117977</td>\n",
              "      <td>101311</td>\n",
              "      <td>177744</td>\n",
              "      <td>1</td>\n",
              "    </tr>\n",
              "    <tr>\n",
              "      <th>14462</th>\n",
              "      <td>9999</td>\n",
              "      <td>2</td>\n",
              "      <td>16336</td>\n",
              "      <td>거래없음</td>\n",
              "      <td>0</td>\n",
              "      <td>0</td>\n",
              "      <td>0</td>\n",
              "      <td>0</td>\n",
              "      <td>0</td>\n",
              "      <td>0</td>\n",
              "      <td>0</td>\n",
              "      <td>0</td>\n",
              "      <td>0</td>\n",
              "      <td>0</td>\n",
              "      <td>0</td>\n",
              "      <td>0</td>\n",
              "      <td>0</td>\n",
              "      <td>0</td>\n",
              "      <td>0</td>\n",
              "      <td>0</td>\n",
              "      <td>0</td>\n",
              "      <td>0</td>\n",
              "      <td>0</td>\n",
              "      <td>0</td>\n",
              "      <td>0</td>\n",
              "      <td>0</td>\n",
              "      <td>0</td>\n",
              "      <td>0</td>\n",
              "      <td>0</td>\n",
              "      <td>0</td>\n",
              "      <td>0</td>\n",
              "      <td>0</td>\n",
              "      <td>0</td>\n",
              "    </tr>\n",
              "  </tbody>\n",
              "</table>\n",
              "<p>101896 rows × 33 columns</p>\n",
              "</div>"
            ],
            "text/plain": [
              "         sno  age  postno  ... lm6_ac_avjn_1  lm12_ac_avjn_1  ip_yn\n",
              "42085      0   53    3941  ...         75333           37872      0\n",
              "625705     0   49    6920  ...       4561905         3012896      1\n",
              "626634     0   32   14016  ...        690512          656198      1\n",
              "523687     0   32   14016  ...        690512          656198      1\n",
              "5868       0   65   21357  ...        918979          945847      0\n",
              "...      ...  ...     ...  ...           ...             ...    ...\n",
              "741749  9999   51   18440  ...         46781           23198      1\n",
              "10307   9999   24    7524  ...        557097          896967      0\n",
              "218678  9999   10    6514  ...         73669           39287      1\n",
              "379621  9999   28   14663  ...        101311          177744      1\n",
              "14462   9999    2   16336  ...             0               0      0\n",
              "\n",
              "[101896 rows x 33 columns]"
            ]
          },
          "metadata": {
            "tags": []
          },
          "execution_count": 9
        }
      ]
    },
    {
      "cell_type": "code",
      "metadata": {
        "id": "EJPufKv7WvKt",
        "colab_type": "code",
        "colab": {}
      },
      "source": [
        "# 학습데이터 만들기 ver.1\n",
        "# 전체데이터 \n",
        "\n",
        "x_train = pd.DataFrame()\n",
        "y_train = pd.DataFrame()\n",
        "\n",
        "\n",
        "x_train['jibul_psb_jan_1'] = data_in['jibul_psb_jan_1']\n",
        "x_train['jan_1'] = data_in['jan_1']\n",
        "x_train['bfmm_ac_jan_1'] = data_in['bfmm_ac_jan_1']\n",
        "x_train['m_avjn_1'] = data_in['m_avjn_1']\n",
        "x_train['bfmm_ac_avjn_1'] = data_in['bfmm_ac_avjn_1']\n",
        "x_train['lm3_ac_avjn'] = data_in['lm3_ac_avjn_1']\n",
        "\n",
        "\n",
        "y_train = data_in['cnt']"
      ],
      "execution_count": 0,
      "outputs": []
    },
    {
      "cell_type": "code",
      "metadata": {
        "id": "MJu5AeVElcfB",
        "colab_type": "code",
        "colab": {}
      },
      "source": [
        "# 학습데이터 만들기 ver.2\n",
        "# 입금데이터 건수 줄이기\n",
        "\n",
        "x_train = pd.DataFrame()\n",
        "y_train = pd.DataFrame()\n",
        "\n",
        "x_train['jibul_psb_jan_1'] = new_train_data['jibul_psb_jan_1']\n",
        "x_train['jan_1'] = new_train_data['jan_1']\n",
        "x_train['bfmm_ac_jan_1'] = new_train_data['bfmm_ac_jan_1']\n",
        "x_train['m_avjn_1'] = new_train_data['m_avjn_1']\n",
        "x_train['bfmm_ac_avjn_1'] = new_train_data['bfmm_ac_avjn_1']\n",
        "x_train['lm3_ac_avjn'] = new_train_data['lm3_ac_avjn_1']\n",
        "\n",
        "\n",
        "y_train = new_train_data['ip_yn']"
      ],
      "execution_count": 0,
      "outputs": []
    },
    {
      "cell_type": "code",
      "metadata": {
        "id": "2uUYzv3ClpmB",
        "colab_type": "code",
        "colab": {
          "base_uri": "https://localhost:8080/",
          "height": 69
        },
        "outputId": "63c939af-8cde-4505-b8f8-ddaf2d543dd4"
      },
      "source": [
        "y_train.value_counts()"
      ],
      "execution_count": 11,
      "outputs": [
        {
          "output_type": "execute_result",
          "data": {
            "text/plain": [
              "1    50948\n",
              "0    50948\n",
              "Name: ip_yn, dtype: int64"
            ]
          },
          "metadata": {
            "tags": []
          },
          "execution_count": 11
        }
      ]
    },
    {
      "cell_type": "code",
      "metadata": {
        "id": "ZCZ0NGHMnrEw",
        "colab_type": "code",
        "colab": {
          "base_uri": "https://localhost:8080/",
          "height": 407
        },
        "outputId": "6edd10e1-b1ef-4345-f8ba-bd414f436189"
      },
      "source": [
        "x_train"
      ],
      "execution_count": 12,
      "outputs": [
        {
          "output_type": "execute_result",
          "data": {
            "text/html": [
              "<div>\n",
              "<style scoped>\n",
              "    .dataframe tbody tr th:only-of-type {\n",
              "        vertical-align: middle;\n",
              "    }\n",
              "\n",
              "    .dataframe tbody tr th {\n",
              "        vertical-align: top;\n",
              "    }\n",
              "\n",
              "    .dataframe thead th {\n",
              "        text-align: right;\n",
              "    }\n",
              "</style>\n",
              "<table border=\"1\" class=\"dataframe\">\n",
              "  <thead>\n",
              "    <tr style=\"text-align: right;\">\n",
              "      <th></th>\n",
              "      <th>jibul_psb_jan_1</th>\n",
              "      <th>jan_1</th>\n",
              "      <th>bfmm_ac_jan_1</th>\n",
              "      <th>m_avjn_1</th>\n",
              "      <th>bfmm_ac_avjn_1</th>\n",
              "      <th>lm3_ac_avjn</th>\n",
              "    </tr>\n",
              "  </thead>\n",
              "  <tbody>\n",
              "    <tr>\n",
              "      <th>42085</th>\n",
              "      <td>117630</td>\n",
              "      <td>0</td>\n",
              "      <td>0</td>\n",
              "      <td>0</td>\n",
              "      <td>0</td>\n",
              "      <td>0</td>\n",
              "    </tr>\n",
              "    <tr>\n",
              "      <th>625705</th>\n",
              "      <td>-26435126</td>\n",
              "      <td>0</td>\n",
              "      <td>1354507</td>\n",
              "      <td>595998</td>\n",
              "      <td>17434337</td>\n",
              "      <td>6768282</td>\n",
              "    </tr>\n",
              "    <tr>\n",
              "      <th>626634</th>\n",
              "      <td>0</td>\n",
              "      <td>32780</td>\n",
              "      <td>5068052</td>\n",
              "      <td>361470</td>\n",
              "      <td>891181</td>\n",
              "      <td>506433</td>\n",
              "    </tr>\n",
              "    <tr>\n",
              "      <th>523687</th>\n",
              "      <td>0</td>\n",
              "      <td>32780</td>\n",
              "      <td>5068052</td>\n",
              "      <td>361470</td>\n",
              "      <td>891181</td>\n",
              "      <td>506433</td>\n",
              "    </tr>\n",
              "    <tr>\n",
              "      <th>5868</th>\n",
              "      <td>0</td>\n",
              "      <td>1932493</td>\n",
              "      <td>1940983</td>\n",
              "      <td>1938518</td>\n",
              "      <td>1406293</td>\n",
              "      <td>1418835</td>\n",
              "    </tr>\n",
              "    <tr>\n",
              "      <th>...</th>\n",
              "      <td>...</td>\n",
              "      <td>...</td>\n",
              "      <td>...</td>\n",
              "      <td>...</td>\n",
              "      <td>...</td>\n",
              "      <td>...</td>\n",
              "    </tr>\n",
              "    <tr>\n",
              "      <th>741749</th>\n",
              "      <td>0</td>\n",
              "      <td>6267341</td>\n",
              "      <td>0</td>\n",
              "      <td>302407</td>\n",
              "      <td>0</td>\n",
              "      <td>94082</td>\n",
              "    </tr>\n",
              "    <tr>\n",
              "      <th>10307</th>\n",
              "      <td>0</td>\n",
              "      <td>400069</td>\n",
              "      <td>176096</td>\n",
              "      <td>627632</td>\n",
              "      <td>586626</td>\n",
              "      <td>603465</td>\n",
              "    </tr>\n",
              "    <tr>\n",
              "      <th>218678</th>\n",
              "      <td>0</td>\n",
              "      <td>100345</td>\n",
              "      <td>200318</td>\n",
              "      <td>119676</td>\n",
              "      <td>109983</td>\n",
              "      <td>111177</td>\n",
              "    </tr>\n",
              "    <tr>\n",
              "      <th>379621</th>\n",
              "      <td>15308</td>\n",
              "      <td>486185</td>\n",
              "      <td>91460</td>\n",
              "      <td>158160</td>\n",
              "      <td>146247</td>\n",
              "      <td>117977</td>\n",
              "    </tr>\n",
              "    <tr>\n",
              "      <th>14462</th>\n",
              "      <td>0</td>\n",
              "      <td>0</td>\n",
              "      <td>0</td>\n",
              "      <td>0</td>\n",
              "      <td>0</td>\n",
              "      <td>0</td>\n",
              "    </tr>\n",
              "  </tbody>\n",
              "</table>\n",
              "<p>101896 rows × 6 columns</p>\n",
              "</div>"
            ],
            "text/plain": [
              "        jibul_psb_jan_1    jan_1  ...  bfmm_ac_avjn_1  lm3_ac_avjn\n",
              "42085            117630        0  ...               0            0\n",
              "625705        -26435126        0  ...        17434337      6768282\n",
              "626634                0    32780  ...          891181       506433\n",
              "523687                0    32780  ...          891181       506433\n",
              "5868                  0  1932493  ...         1406293      1418835\n",
              "...                 ...      ...  ...             ...          ...\n",
              "741749                0  6267341  ...               0        94082\n",
              "10307                 0   400069  ...          586626       603465\n",
              "218678                0   100345  ...          109983       111177\n",
              "379621            15308   486185  ...          146247       117977\n",
              "14462                 0        0  ...               0            0\n",
              "\n",
              "[101896 rows x 6 columns]"
            ]
          },
          "metadata": {
            "tags": []
          },
          "execution_count": 12
        }
      ]
    },
    {
      "cell_type": "code",
      "metadata": {
        "id": "0o15BAmYJWJs",
        "colab_type": "code",
        "outputId": "7bd30edd-e0a4-414b-9b88-b1d0019f8031",
        "colab": {
          "base_uri": "https://localhost:8080/",
          "height": 285
        }
      },
      "source": [
        "# 데이터 라벨 분포 확인해보기\n",
        "data_in['cnt'].value_counts().plot(kind='bar')"
      ],
      "execution_count": 0,
      "outputs": [
        {
          "output_type": "execute_result",
          "data": {
            "text/plain": [
              "<matplotlib.axes._subplots.AxesSubplot at 0x7f66f6930f28>"
            ]
          },
          "metadata": {
            "tags": []
          },
          "execution_count": 53
        },
        {
          "output_type": "display_data",
          "data": {
            "image/png": "[encoded data removed]",
            "text/plain": [
              "<Figure size 432x288 with 1 Axes>"
            ]
          },
          "metadata": {
            "tags": [],
            "needs_background": "light"
          }
        }
      ]
    },
    {
      "cell_type": "code",
      "metadata": {
        "id": "KfZHG-4WJj0L",
        "colab_type": "code",
        "outputId": "6e2a9a93-f9d8-4efa-90cb-d35901b9918d",
        "colab": {
          "base_uri": "https://localhost:8080/",
          "height": 52
        }
      },
      "source": [
        "data_val = data_in[data_in['lm3_ac_avjn'] > 0]\n",
        "data_val['ip_yn'].value_counts()"
      ],
      "execution_count": 0,
      "outputs": [
        {
          "output_type": "execute_result",
          "data": {
            "text/plain": [
              "1    89292\n",
              "Name: ip_yn, dtype: int64"
            ]
          },
          "metadata": {
            "tags": []
          },
          "execution_count": 94
        }
      ]
    },
    {
      "cell_type": "code",
      "metadata": {
        "id": "thgy3YqX6RRG",
        "colab_type": "code",
        "colab": {}
      },
      "source": [
        "trx_cnt = list(data_in['cnt'])"
      ],
      "execution_count": 0,
      "outputs": []
    },
    {
      "cell_type": "code",
      "metadata": {
        "id": "TMXe-_1zXuS6",
        "colab_type": "code",
        "colab": {}
      },
      "source": [
        "x_train_np = x_train.to_numpy()\n",
        "y_train_np = y_train.to_numpy()"
      ],
      "execution_count": 0,
      "outputs": []
    },
    {
      "cell_type": "code",
      "metadata": {
        "id": "VHoqSlrhWBFl",
        "colab_type": "code",
        "outputId": "97c7a77e-2cb3-4905-9c98-076bf6f824c3",
        "colab": {
          "base_uri": "https://localhost:8080/",
          "height": 289
        }
      },
      "source": [
        "%matplotlib inline\n",
        "import matplotlib.pyplot as plt\n",
        "\n",
        "# 데이터셋 확인 (2차원)\n",
        "#plot_x = x_train_np[:,0]\n",
        "#plot_y = x_train_np[:,1]\n",
        "#plot_color = y_train_np.reshape(381656,)\n",
        "\n",
        "plot_x = x_train_np[:1000,0]\n",
        "plot_y = x_train_np[:1000,1]\n",
        "plot_color = y_train_np[:1000].reshape(1000,)\n",
        "\n",
        "\n",
        "plt.scatter(plot_x, plot_y, c=plot_color)\n",
        "plt.show()"
      ],
      "execution_count": 89,
      "outputs": [
        {
          "output_type": "display_data",
          "data": {
            "image/png": "[encoded data removed]",
            "text/plain": [
              "<Figure size 432x288 with 1 Axes>"
            ]
          },
          "metadata": {
            "tags": [],
            "needs_background": "light"
          }
        }
      ]
    },
    {
      "cell_type": "markdown",
      "metadata": {
        "id": "qEGOY2HKFtdQ",
        "colab_type": "text"
      },
      "source": [
        "모델 학습하기\n"
      ]
    },
    {
      "cell_type": "code",
      "metadata": {
        "id": "cwuv3SmjWBHV",
        "colab_type": "code",
        "outputId": "21bb22bd-d55f-42ec-a6c0-f032265b6f03",
        "colab": {
          "base_uri": "https://localhost:8080/",
          "height": 35
        }
      },
      "source": [
        "# 0. 사용할 패키지 불러오기\n",
        "import numpy as np\n",
        "from keras.models import Sequential\n",
        "from keras.layers import Dense\n",
        "import random\n",
        "\n",
        "from sklearn.metrics import recall_score \n",
        "from sklearn.metrics import precision_score \n",
        "from sklearn.metrics import f1_score \n",
        "\n",
        "\n",
        "\n"
      ],
      "execution_count": 14,
      "outputs": [
        {
          "output_type": "stream",
          "text": [
            "Using TensorFlow backend.\n"
          ],
          "name": "stderr"
        }
      ]
    },
    {
      "cell_type": "code",
      "metadata": {
        "id": "VrE3jryeHqOk",
        "colab_type": "code",
        "colab": {}
      },
      "source": [
        "from keras import backend as K\n",
        "def recall(y_target, y_pred):\n",
        "    # clip(t, clip_value_min, clip_value_max) : clip_value_min~clip_value_max 이외 가장자리를 깎아 낸다\n",
        "    # round : 반올림한다\n",
        "    y_target_yn = K.round(K.clip(y_target, 0, 1)) # 실제값을 0(Negative) 또는 1(Positive)로 설정한다\n",
        "    y_pred_yn = K.round(K.clip(y_pred, 0, 1)) # 예측값을 0(Negative) 또는 1(Positive)로 설정한다\n",
        "\n",
        "    # True Positive는 실제 값과 예측 값이 모두 1(Positive)인 경우이다\n",
        "    count_true_positive = K.sum(y_target_yn * y_pred_yn) \n",
        "\n",
        "    # (True Positive + False Negative) = 실제 값이 1(Positive) 전체\n",
        "    count_true_positive_false_negative = K.sum(y_target_yn)\n",
        "\n",
        "    # Recall =  (True Positive) / (True Positive + False Negative)\n",
        "    # K.epsilon()는 'divide by zero error' 예방차원에서 작은 수를 더한다\n",
        "    recall = count_true_positive / (count_true_positive_false_negative + K.epsilon())\n",
        "\n",
        "    # return a single tensor value\n",
        "    return recall\n",
        "\n",
        "\n",
        "def precision(y_target, y_pred):\n",
        "    # clip(t, clip_value_min, clip_value_max) : clip_value_min~clip_value_max 이외 가장자리를 깎아 낸다\n",
        "    # round : 반올림한다\n",
        "    y_pred_yn = K.round(K.clip(y_pred, 0, 1)) # 예측값을 0(Negative) 또는 1(Positive)로 설정한다\n",
        "    y_target_yn = K.round(K.clip(y_target, 0, 1)) # 실제값을 0(Negative) 또는 1(Positive)로 설정한다\n",
        "\n",
        "    # True Positive는 실제 값과 예측 값이 모두 1(Positive)인 경우이다\n",
        "    count_true_positive = K.sum(y_target_yn * y_pred_yn) \n",
        "\n",
        "    # (True Positive + False Positive) = 예측 값이 1(Positive) 전체\n",
        "    count_true_positive_false_positive = K.sum(y_pred_yn)\n",
        "\n",
        "    # Precision = (True Positive) / (True Positive + False Positive)\n",
        "    # K.epsilon()는 'divide by zero error' 예방차원에서 작은 수를 더한다\n",
        "    precision = count_true_positive / (count_true_positive_false_positive + K.epsilon())\n",
        "\n",
        "    # return a single tensor value\n",
        "    return precision\n",
        "\n",
        "\n",
        "def f1score(y_target, y_pred):\n",
        "    _recall = recall(y_target, y_pred)\n",
        "    _precision = precision(y_target, y_pred)\n",
        "    # K.epsilon()는 'divide by zero error' 예방차원에서 작은 수를 더한다\n",
        "    _f1score = ( 2 * _recall * _precision) / (_recall + _precision+ K.epsilon())\n",
        "    \n",
        "    # return a single tensor value\n",
        "    return _f1score"
      ],
      "execution_count": 0,
      "outputs": []
    },
    {
      "cell_type": "code",
      "metadata": {
        "id": "ivhAoG-H2qDI",
        "colab_type": "code",
        "outputId": "f0fee766-7a7f-4f6d-fc0c-e5e0b08746b0",
        "colab": {
          "base_uri": "https://localhost:8080/",
          "height": 296
        }
      },
      "source": [
        "\n",
        "# 2. 모델 구성하기\n",
        "model = Sequential()\n",
        "model.add(Dense(10, input_dim=6, activation='sigmoid'))\n",
        "model.add(Dense(1))\n",
        "\n",
        "# 3. 모델 학습과정 설정하기\n",
        "model.compile(optimizer='rmsprop', loss='binary_crossentropy', metrics=['accuracy', precision, recall, f1score])\n",
        "\n",
        "\n",
        "# 4. 모델 학습시키기\n",
        "hist = model.fit(x_train_np, y_train_np, epochs=7, batch_size=64,validation_split=0.2)"
      ],
      "execution_count": 21,
      "outputs": [
        {
          "output_type": "stream",
          "text": [
            "Train on 81516 samples, validate on 20380 samples\n",
            "Epoch 1/7\n",
            "81516/81516 [==============================] - 2s 23us/step - loss: 2.9273 - accuracy: 0.4910 - precision: 0.5526 - recall: 0.3717 - f1score: 0.4212 - val_loss: 0.9222 - val_accuracy: 0.5528 - val_precision: 0.5651 - val_recall: 0.4858 - val_f1score: 0.5130\n",
            "Epoch 2/7\n",
            "81516/81516 [==============================] - 2s 24us/step - loss: 0.7537 - accuracy: 0.5504 - precision: 0.5498 - recall: 0.5640 - f1score: 0.5505 - val_loss: 0.6834 - val_accuracy: 0.5663 - val_precision: 0.5858 - val_recall: 0.4842 - val_f1score: 0.5209\n",
            "Epoch 3/7\n",
            "81516/81516 [==============================] - 2s 25us/step - loss: 0.6846 - accuracy: 0.5523 - precision: 0.5491 - recall: 0.5925 - f1score: 0.5639 - val_loss: 0.6803 - val_accuracy: 0.5577 - val_precision: 0.5520 - val_recall: 0.6614 - val_f1score: 0.5939\n",
            "Epoch 4/7\n",
            "81516/81516 [==============================] - 2s 25us/step - loss: 0.6822 - accuracy: 0.5531 - precision: 0.5481 - recall: 0.6014 - f1score: 0.5674 - val_loss: 0.6799 - val_accuracy: 0.5592 - val_precision: 0.5625 - val_recall: 0.5706 - val_f1score: 0.5585\n",
            "Epoch 5/7\n",
            "81516/81516 [==============================] - 2s 25us/step - loss: 0.6825 - accuracy: 0.5464 - precision: 0.5420 - recall: 0.6065 - f1score: 0.5656 - val_loss: 0.6798 - val_accuracy: 0.5401 - val_precision: 0.5412 - val_recall: 0.5999 - val_f1score: 0.5606\n",
            "Epoch 6/7\n",
            "81516/81516 [==============================] - 2s 22us/step - loss: 0.6815 - accuracy: 0.5474 - precision: 0.5449 - recall: 0.5769 - f1score: 0.5523 - val_loss: 0.6831 - val_accuracy: 0.5383 - val_precision: 0.5488 - val_recall: 0.4737 - val_f1score: 0.4998\n",
            "Epoch 7/7\n",
            "81516/81516 [==============================] - 2s 25us/step - loss: 0.6813 - accuracy: 0.5498 - precision: 0.5467 - recall: 0.5980 - f1score: 0.5631 - val_loss: 0.6795 - val_accuracy: 0.5566 - val_precision: 0.5739 - val_recall: 0.4792 - val_f1score: 0.5129\n"
          ],
          "name": "stdout"
        }
      ]
    },
    {
      "cell_type": "code",
      "metadata": {
        "id": "NeKh1NOGp7jq",
        "colab_type": "code",
        "colab": {
          "base_uri": "https://localhost:8080/",
          "height": 283
        },
        "outputId": "56d35613-0dad-430a-bfa7-0daffbc01d99"
      },
      "source": [
        "# 5. 학습과정 살펴보기\n",
        "%matplotlib inline\n",
        "import matplotlib.pyplot as plt\n",
        "\n",
        "fig, loss_ax = plt.subplots()\n",
        "\n",
        "acc_ax = loss_ax.twinx()\n",
        "\n",
        "loss_ax.set_ylim([0.0, 1.0])\n",
        "acc_ax.set_ylim([0.0, 1.0])\n",
        "\n",
        "loss_ax.plot(hist.history['loss'], 'y', label='train loss')\n",
        "acc_ax.plot(hist.history['accuracy'], 'b', label='train acc')\n",
        "\n",
        "loss_ax.set_xlabel('epoch')\n",
        "loss_ax.set_ylabel('loss')\n",
        "acc_ax.set_ylabel('accuray')\n",
        "\n",
        "loss_ax.legend(loc='upper left')\n",
        "acc_ax.legend(loc='lower left')\n",
        "\n",
        "plt.show()"
      ],
      "execution_count": 26,
      "outputs": [
        {
          "output_type": "display_data",
          "data": {
            "image/png": "[encoded data removed]",
            "text/plain": [
              "<Figure size 432x288 with 2 Axes>"
            ]
          },
          "metadata": {
            "tags": [],
            "needs_background": "light"
          }
        }
      ]
    },
    {
      "cell_type": "code",
      "metadata": {
        "id": "5QUwadsW2qFR",
        "colab_type": "code",
        "outputId": "11d835b6-1b33-474d-9e63-8e9bc1192c3d",
        "colab": {
          "base_uri": "https://localhost:8080/",
          "height": 35
        }
      },
      "source": [
        "# 평가데이터 만들기\n",
        "\n",
        "data_eval = pd.read_csv('cvt_201703.csv')\n",
        "\n",
        "from tqdm import tqdm\n",
        "\n",
        "# 각 거래채널별 거래건수를 합산 - 거래가 있는 경우 1 , 없으면 0\n",
        "trx_cnt = list(data_eval['A0_cnt'] + data_eval['C0_cnt'] + data_eval['CK_cnt'] + data_eval['D0_cnt'] + data_eval['DT_cnt'] + data_eval['G0_cnt'])\n",
        "\n",
        "ip_yn = []\n",
        "\n",
        "for i in tqdm(range(len(trx_cnt))):\n",
        "  if trx_cnt[i] > 0:\n",
        "    ip_yn.append(1)\n",
        "  else:\n",
        "    ip_yn.append(0)\n",
        "\n",
        "\n",
        "data_eval['ip_yn'] = ip_yn"
      ],
      "execution_count": 22,
      "outputs": [
        {
          "output_type": "stream",
          "text": [
            "100%|██████████| 381656/381656 [00:00<00:00, 2095263.47it/s]\n"
          ],
          "name": "stderr"
        }
      ]
    },
    {
      "cell_type": "code",
      "metadata": {
        "id": "ZnHpb4w9hMBL",
        "colab_type": "code",
        "colab": {}
      },
      "source": [
        "\n",
        "x_test = pd.DataFrame()\n",
        "y_test = pd.DataFrame()\n",
        "\n",
        "x_test['jibul_psb_jan_1'] = data_eval['jibul_psb_jan_1']\n",
        "x_test['jan_1'] = data_eval['jan_1']\n",
        "x_test['bfmm_ac_jan_1'] = data_eval['bfmm_ac_jan_1']\n",
        "x_test['m_avjn_1'] = data_eval['m_avjn_1']\n",
        "x_test['bfmm_ac_avjn_1'] = data_eval['bfmm_ac_avjn_1']\n",
        "x_test['lm3_ac_avjn'] = data_eval['lm3_ac_avjn_1']\n",
        "\n",
        "\n",
        "y_test = data_eval['ip_yn']\n",
        "\n",
        "\n",
        "x_test_np = x_test.to_numpy()\n",
        "y_test_np = y_test.to_numpy()\n"
      ],
      "execution_count": 0,
      "outputs": []
    },
    {
      "cell_type": "code",
      "metadata": {
        "id": "Ga-c2Xgegja2",
        "colab_type": "code",
        "outputId": "73aa1df7-f968-4fdc-f3da-b724b8192a3f",
        "colab": {
          "base_uri": "https://localhost:8080/",
          "height": 52
        }
      },
      "source": [
        "# 학습모델 평가하기\n",
        "\n",
        "# 6. 모델 평가하기\n",
        "loss_and_metrics = model.evaluate(x_test_np, y_test_np, batch_size=32)\n",
        "print('loss_and_metrics : ' + str(loss_and_metrics))\n",
        "\n",
        "\n",
        "\n"
      ],
      "execution_count": 24,
      "outputs": [
        {
          "output_type": "stream",
          "text": [
            "381656/381656 [==============================] - 8s 20us/step\n",
            "loss_and_metrics : [0.6552265099649331, 0.6420729756355286, 0.1078149825334549, 0.4316401779651642, 0.16440097987651825]\n"
          ],
          "name": "stdout"
        }
      ]
    },
    {
      "cell_type": "code",
      "metadata": {
        "id": "f7vA4mAgpkoc",
        "colab_type": "code",
        "colab": {}
      },
      "source": [
        "# 7. 모델 예측값 만들기\n",
        "mypredict = model.predict(x_test_np)\n",
        "\n",
        "my_result = []\n",
        "\n",
        "for i in range(len(mypredict)):\n",
        "  my_result.append(mypredict[i])\n",
        "\n",
        "sub_dict = {\"result\":my_result}\n",
        "submission_df = pd.DataFrame(sub_dict)\n",
        "submission_df.to_csv(\"20200614_MLP_result1.csv\", index=False, encoding='utf-8')\n"
      ],
      "execution_count": 0,
      "outputs": []
    },
    {
      "cell_type": "code",
      "metadata": {
        "id": "mxpp3vuEgjdY",
        "colab_type": "code",
        "colab": {}
      },
      "source": [
        ""
      ],
      "execution_count": 0,
      "outputs": []
    },
    {
      "cell_type": "code",
      "metadata": {
        "id": "sHUzRZ5yWBLv",
        "colab_type": "code",
        "colab": {}
      },
      "source": [
        ""
      ],
      "execution_count": 0,
      "outputs": []
    }
  ]
}