{
  "nbformat": 4,
  "nbformat_minor": 0,
  "metadata": {
    "colab": {
      "name": "CIFAR10_CNN_pytorch.ipynb",
      "provenance": [],
      "authorship_tag": "ABX9TyM3pJDC/fuCod9WzdBZQEMV",
      "include_colab_link": true
    },
    "kernelspec": {
      "name": "python3",
      "display_name": "Python 3"
    },
    "accelerator": "TPU",
    "widgets": {
      "application/vnd.jupyter.widget-state+json": {
        "5fb1c19d537c4a95bd6027dfabfa1933": {
          "model_module": "@jupyter-widgets/controls",
          "model_name": "HBoxModel",
          "state": {
            "_view_name": "HBoxView",
            "_dom_classes": [],
            "_model_name": "HBoxModel",
            "_view_module": "@jupyter-widgets/controls",
            "_model_module_version": "1.5.0",
            "_view_count": null,
            "_view_module_version": "1.5.0",
            "box_style": "",
            "layout": "IPY_MODEL_8a797bb8afb745479e28c4152705e050",
            "_model_module": "@jupyter-widgets/controls",
            "children": [
              "IPY_MODEL_ecb032949439456a91353b9d5f3a8ae6",
              "IPY_MODEL_3d564b96c72448da8d174c9920a5dd07"
            ]
          }
        },
        "8a797bb8afb745479e28c4152705e050": {
          "model_module": "@jupyter-widgets/base",
          "model_name": "LayoutModel",
          "state": {
            "_view_name": "LayoutView",
            "grid_template_rows": null,
            "right": null,
            "justify_content": null,
            "_view_module": "@jupyter-widgets/base",
            "overflow": null,
            "_model_module_version": "1.2.0",
            "_view_count": null,
            "flex_flow": null,
            "width": null,
            "min_width": null,
            "border": null,
            "align_items": null,
            "bottom": null,
            "_model_module": "@jupyter-widgets/base",
            "top": null,
            "grid_column": null,
            "overflow_y": null,
            "overflow_x": null,
            "grid_auto_flow": null,
            "grid_area": null,
            "grid_template_columns": null,
            "flex": null,
            "_model_name": "LayoutModel",
            "justify_items": null,
            "grid_row": null,
            "max_height": null,
            "align_content": null,
            "visibility": null,
            "align_self": null,
            "height": null,
            "min_height": null,
            "padding": null,
            "grid_auto_rows": null,
            "grid_gap": null,
            "max_width": null,
            "order": null,
            "_view_module_version": "1.2.0",
            "grid_template_areas": null,
            "object_position": null,
            "object_fit": null,
            "grid_auto_columns": null,
            "margin": null,
            "display": null,
            "left": null
          }
        },
        "ecb032949439456a91353b9d5f3a8ae6": {
          "model_module": "@jupyter-widgets/controls",
          "model_name": "FloatProgressModel",
          "state": {
            "_view_name": "ProgressView",
            "style": "IPY_MODEL_383054a68ed2459e9cab260471d427cf",
            "_dom_classes": [],
            "description": "",
            "_model_name": "FloatProgressModel",
            "bar_style": "info",
            "max": 1,
            "_view_module": "@jupyter-widgets/controls",
            "_model_module_version": "1.5.0",
            "value": 1,
            "_view_count": null,
            "_view_module_version": "1.5.0",
            "orientation": "horizontal",
            "min": 0,
            "description_tooltip": null,
            "_model_module": "@jupyter-widgets/controls",
            "layout": "IPY_MODEL_5bf2fef76dae40bead1a3fc5955b32b3"
          }
        },
        "3d564b96c72448da8d174c9920a5dd07": {
          "model_module": "@jupyter-widgets/controls",
          "model_name": "HTMLModel",
          "state": {
            "_view_name": "HTMLView",
            "style": "IPY_MODEL_d3fb19ff7b8c461d8985688ba192d7b9",
            "_dom_classes": [],
            "description": "",
            "_model_name": "HTMLModel",
            "placeholder": "​",
            "_view_module": "@jupyter-widgets/controls",
            "_model_module_version": "1.5.0",
            "value": " 170500096/? [00:20&lt;00:00, 94299524.22it/s]",
            "_view_count": null,
            "_view_module_version": "1.5.0",
            "description_tooltip": null,
            "_model_module": "@jupyter-widgets/controls",
            "layout": "IPY_MODEL_bbeb76a818574bc896b598b9705453d7"
          }
        },
        "383054a68ed2459e9cab260471d427cf": {
          "model_module": "@jupyter-widgets/controls",
          "model_name": "ProgressStyleModel",
          "state": {
            "_view_name": "StyleView",
            "_model_name": "ProgressStyleModel",
            "description_width": "initial",
            "_view_module": "@jupyter-widgets/base",
            "_model_module_version": "1.5.0",
            "_view_count": null,
            "_view_module_version": "1.2.0",
            "bar_color": null,
            "_model_module": "@jupyter-widgets/controls"
          }
        },
        "5bf2fef76dae40bead1a3fc5955b32b3": {
          "model_module": "@jupyter-widgets/base",
          "model_name": "LayoutModel",
          "state": {
            "_view_name": "LayoutView",
            "grid_template_rows": null,
            "right": null,
            "justify_content": null,
            "_view_module": "@jupyter-widgets/base",
            "overflow": null,
            "_model_module_version": "1.2.0",
            "_view_count": null,
            "flex_flow": null,
            "width": null,
            "min_width": null,
            "border": null,
            "align_items": null,
            "bottom": null,
            "_model_module": "@jupyter-widgets/base",
            "top": null,
            "grid_column": null,
            "overflow_y": null,
            "overflow_x": null,
            "grid_auto_flow": null,
            "grid_area": null,
            "grid_template_columns": null,
            "flex": null,
            "_model_name": "LayoutModel",
            "justify_items": null,
            "grid_row": null,
            "max_height": null,
            "align_content": null,
            "visibility": null,
            "align_self": null,
            "height": null,
            "min_height": null,
            "padding": null,
            "grid_auto_rows": null,
            "grid_gap": null,
            "max_width": null,
            "order": null,
            "_view_module_version": "1.2.0",
            "grid_template_areas": null,
            "object_position": null,
            "object_fit": null,
            "grid_auto_columns": null,
            "margin": null,
            "display": null,
            "left": null
          }
        },
        "d3fb19ff7b8c461d8985688ba192d7b9": {
          "model_module": "@jupyter-widgets/controls",
          "model_name": "DescriptionStyleModel",
          "state": {
            "_view_name": "StyleView",
            "_model_name": "DescriptionStyleModel",
            "description_width": "",
            "_view_module": "@jupyter-widgets/base",
            "_model_module_version": "1.5.0",
            "_view_count": null,
            "_view_module_version": "1.2.0",
            "_model_module": "@jupyter-widgets/controls"
          }
        },
        "bbeb76a818574bc896b598b9705453d7": {
          "model_module": "@jupyter-widgets/base",
          "model_name": "LayoutModel",
          "state": {
            "_view_name": "LayoutView",
            "grid_template_rows": null,
            "right": null,
            "justify_content": null,
            "_view_module": "@jupyter-widgets/base",
            "overflow": null,
            "_model_module_version": "1.2.0",
            "_view_count": null,
            "flex_flow": null,
            "width": null,
            "min_width": null,
            "border": null,
            "align_items": null,
            "bottom": null,
            "_model_module": "@jupyter-widgets/base",
            "top": null,
            "grid_column": null,
            "overflow_y": null,
            "overflow_x": null,
            "grid_auto_flow": null,
            "grid_area": null,
            "grid_template_columns": null,
            "flex": null,
            "_model_name": "LayoutModel",
            "justify_items": null,
            "grid_row": null,
            "max_height": null,
            "align_content": null,
            "visibility": null,
            "align_self": null,
            "height": null,
            "min_height": null,
            "padding": null,
            "grid_auto_rows": null,
            "grid_gap": null,
            "max_width": null,
            "order": null,
            "_view_module_version": "1.2.0",
            "grid_template_areas": null,
            "object_position": null,
            "object_fit": null,
            "grid_auto_columns": null,
            "margin": null,
            "display": null,
            "left": null
          }
        }
      }
    }
  },
  "cells": [
    {
      "cell_type": "markdown",
      "metadata": {
        "id": "view-in-github",
        "colab_type": "text"
      },
      "source": [
        "<a href=\"https://colab.research.google.com/github/castorhyun/DeepLearningZeroToAll/blob/master/CIFAR10_CNN_pytorch.ipynb\" target=\"_parent\"><img src=\"https://colab.research.google.com/assets/colab-badge.svg\" alt=\"Open In Colab\"/></a>"
      ]
    },
    {
      "cell_type": "code",
      "metadata": {
        "id": "DCEjWCysN0O9"
      },
      "source": [
        "import torch\n",
        "import torchvision\n",
        "import torchvision.transforms as transforms\n",
        "\n"
      ],
      "execution_count": 1,
      "outputs": []
    },
    {
      "cell_type": "markdown",
      "metadata": {
        "id": "k_28mSwdRp8L"
      },
      "source": [
        "https://pytorch.org/tutorials/beginner/blitz/cifar10_tutorial.html\n",
        "\n",
        "파이토치 튜토리얼 참고\n"
      ]
    },
    {
      "cell_type": "code",
      "metadata": {
        "id": "AiHRGMbPN04Z",
        "outputId": "5b580dd5-a28b-4a5b-8c1c-14efe668cb15",
        "colab": {
          "base_uri": "https://localhost:8080/",
          "height": 115,
          "referenced_widgets": [
            "5fb1c19d537c4a95bd6027dfabfa1933",
            "8a797bb8afb745479e28c4152705e050",
            "ecb032949439456a91353b9d5f3a8ae6",
            "3d564b96c72448da8d174c9920a5dd07",
            "383054a68ed2459e9cab260471d427cf",
            "5bf2fef76dae40bead1a3fc5955b32b3",
            "d3fb19ff7b8c461d8985688ba192d7b9",
            "bbeb76a818574bc896b598b9705453d7"
          ]
        }
      },
      "source": [
        "transform = transforms.Compose(\n",
        "    [transforms.ToTensor(),\n",
        "     transforms.Normalize((0.5, 0.5, 0.5), (0.5, 0.5, 0.5))])\n",
        "\n",
        "trainset = torchvision.datasets.CIFAR10(root='./data', train=True,\n",
        "                                        download=True, transform=transform)\n",
        "trainloader = torch.utils.data.DataLoader(trainset, batch_size=100, shuffle=True, num_workers=2)\n",
        "\n",
        "\n",
        "validation_dataset = torchvision.datasets.CIFAR10(root='./data', train=False, download=True, transform=transform)\n",
        "\n",
        "validation_loader = torch.utils.data.DataLoader(dataset=validation_dataset, batch_size=100, shuffle=False)\n",
        "\n",
        "\n",
        "\n",
        "testset = torchvision.datasets.CIFAR10(root='./data', train=False,\n",
        "                                       download=True, transform=transform)\n",
        "testloader = torch.utils.data.DataLoader(testset, batch_size=4,\n",
        "                                         shuffle=False, num_workers=2)\n",
        "\n",
        "classes = ('plane', 'car', 'bird', 'cat',\n",
        "           'deer', 'dog', 'frog', 'horse', 'ship', 'truck')"
      ],
      "execution_count": 2,
      "outputs": [
        {
          "output_type": "stream",
          "text": [
            "Downloading https://www.cs.toronto.edu/~kriz/cifar-10-python.tar.gz to ./data/cifar-10-python.tar.gz\n"
          ],
          "name": "stdout"
        },
        {
          "output_type": "display_data",
          "data": {
            "application/vnd.jupyter.widget-view+json": {
              "model_id": "5fb1c19d537c4a95bd6027dfabfa1933",
              "version_minor": 0,
              "version_major": 2
            },
            "text/plain": [
              "HBox(children=(FloatProgress(value=1.0, bar_style='info', max=1.0), HTML(value='')))"
            ]
          },
          "metadata": {
            "tags": []
          }
        },
        {
          "output_type": "stream",
          "text": [
            "Extracting ./data/cifar-10-python.tar.gz to ./data\n",
            "Files already downloaded and verified\n",
            "Files already downloaded and verified\n"
          ],
          "name": "stdout"
        }
      ]
    },
    {
      "cell_type": "markdown",
      "metadata": {
        "id": "7IQs0dGSSj-q"
      },
      "source": [
        "Show image\n"
      ]
    },
    {
      "cell_type": "code",
      "metadata": {
        "id": "n_hzlaPjN06Q"
      },
      "source": [
        "import matplotlib.pyplot as plt\n",
        "import numpy as np\n",
        "\n",
        "def imshow(img):\n",
        "  img = img / 2 + 0.5 #unnormalize\n",
        "  npimg = img.numpy()\n",
        "\n",
        "  plt.imshow(np.transpose(npimg, (1,2,0)))\n",
        "  plt.show()\n",
        "\n"
      ],
      "execution_count": 3,
      "outputs": []
    },
    {
      "cell_type": "code",
      "metadata": {
        "id": "GRbIaPIeN08X",
        "outputId": "d89c8670-4f2a-48ca-8803-c29fc304a9ce",
        "colab": {
          "base_uri": "https://localhost:8080/",
          "height": 285
        }
      },
      "source": [
        "dataiter = iter(trainloader)\n",
        "images, labels = dataiter.next()\n",
        "\n",
        "#show image\n",
        "imshow(torchvision.utils.make_grid(images))\n",
        "\n",
        "#print labels\n",
        "print(' '.join('%5s' % classes[labels[j]] for j in range(8) ))"
      ],
      "execution_count": 5,
      "outputs": [
        {
          "output_type": "display_data",
          "data": {
            "image/png": "[encoded data removed]",
            "text/plain": [
              "<Figure size 432x288 with 1 Axes>"
            ]
          },
          "metadata": {
            "tags": [],
            "needs_background": "light"
          }
        },
        {
          "output_type": "stream",
          "text": [
            "  cat  ship  deer truck  deer plane  frog horse\n"
          ],
          "name": "stdout"
        }
      ]
    },
    {
      "cell_type": "markdown",
      "metadata": {
        "id": "j8nVBfh6UnMi"
      },
      "source": [
        "Define CNN"
      ]
    },
    {
      "cell_type": "code",
      "metadata": {
        "id": "qEHXbRrDN1Al"
      },
      "source": [
        "import torch.nn as nn\n",
        "import torch.nn.functional as F\n",
        "\n",
        "\n",
        "class Net(nn.Module):\n",
        "\n",
        "  def __init__(self):\n",
        "    super(Net, self).__init__()\n",
        "\n",
        "    # Conv2D(in_channels, out_channels, kernel_size)\n",
        "    self.conv1 = nn.Conv2d(3, 6, 5)\n",
        "    self.pool = nn.MaxPool2d(2,2)\n",
        "    self.conv2 = nn.Conv2d(6, 16, 5)\n",
        "\n",
        "    self.fc1 = nn.Linear(16*5*5, 120)\n",
        "    self.fc2 = nn.Linear(120, 84)\n",
        "    self.fc3 = nn.Linear(84, 10)\n",
        "\n",
        "\n",
        "\n",
        "  def forward(self, x):\n",
        "    x = self.pool(F.relu(self.conv1(x)))\n",
        "    x = self.pool(F.relu(self.conv2(x)))\n",
        "\n",
        "    x = x.view(-1, 16*5*5)\n",
        "    x = F.relu(self.fc1(x))\n",
        "    x = F.relu(self.fc2(x))\n",
        "\n",
        "    x = self.fc3(x)\n",
        "\n",
        "    return x\n",
        "\n",
        "\n",
        "net = Net()\n"
      ],
      "execution_count": 6,
      "outputs": []
    },
    {
      "cell_type": "code",
      "metadata": {
        "id": "i1Ng8P40eyJ7"
      },
      "source": [
        "import torch.nn as nn\n",
        "import torch.nn.functional as F\n",
        "\n",
        "# LeNet\n",
        "\n",
        "class LeNet(nn.Module):\n",
        "\n",
        "  def __init__(self):\n",
        "    super().__init__()\n",
        "    # 채널, 출력, filter size, stride\n",
        "    self.conv1 = nn.Conv2d(3, 20,5, 1)\n",
        "\n",
        "    self.conv2 = nn.Conv2d(20, 50, 5, 1)\n",
        "    \n",
        "    self.fc1 = nn.Linear(5*5*50, 500)\n",
        "\n",
        "    self.dropout1 = nn.Dropout(0.5)\n",
        "\n",
        "    self.fc2 = nn.Linear(500,10)\n",
        "\n",
        "\n",
        "  def forward(self, x):\n",
        "\n",
        "    x = F.relu(self.conv1(x))\n",
        "    x = F.max_pool2d(x,2,2)\n",
        "    x = F.relu(self.conv2(x))\n",
        "    x = F.max_pool2d(x,2,2)\n",
        "\n",
        "    #flatten\n",
        "    x = x.view(-1, 5*5*50)\n",
        "\n",
        "    x = F.relu(self.fc1(x))\n",
        "    x = self.dropout1(x)\n",
        "    x = self.fc2(x)\n",
        "\n",
        "    return x\n",
        "\n",
        "\n",
        "net = LeNet()\n"
      ],
      "execution_count": 7,
      "outputs": []
    },
    {
      "cell_type": "code",
      "metadata": {
        "id": "eSw8MmE8kTr6"
      },
      "source": [
        "class LeNet_2(nn.Module):\n",
        "  \n",
        "  def __init__(self):\n",
        "    super().__init__()\n",
        "    # 32px 이었다가, conv를 거치면서 절반으로 감소\n",
        "    self.conv1 = nn.Conv2d(3, 16, 3, 1, padding=1)\n",
        "    self.conv2 = nn.Conv2d(16, 32, 3, 1, padding=1)\n",
        "    self.conv3 = nn.Conv2d(32, 64, 3, 1, padding=1)\n",
        "    self.fc1 = nn.Linear(4*4*64, 500)\n",
        "    self.dropout1 = nn.Dropout(0.5)\n",
        "    self.fc2 = nn.Linear(500, 10)\n",
        "    \n",
        "  def forward(self, x):\n",
        "    x = F.relu(self.conv1(x))\n",
        "    x = F.max_pool2d(x, 2, 2)\n",
        "    x = F.relu(self.conv2(x))\n",
        "    x = F.max_pool2d(x, 2, 2)\n",
        "    x = F.relu(self.conv3(x))\n",
        "    x = F.max_pool2d(x, 2, 2)\n",
        "    x = x.view(-1, 4*4*64)\n",
        "    x = F.relu(self.fc1(x))\n",
        "    x = self.dropout1(x)\n",
        "    x = self.fc2(x)\n",
        "    return x\n",
        "\n",
        "  \n",
        "net = LeNet_2()"
      ],
      "execution_count": 8,
      "outputs": []
    },
    {
      "cell_type": "markdown",
      "metadata": {
        "id": "lDYhpeOvaKOW"
      },
      "source": [
        "Loss and optimizer"
      ]
    },
    {
      "cell_type": "code",
      "metadata": {
        "id": "wgUj4RGBUqHt"
      },
      "source": [
        "import torch.optim as optim\n",
        "\n",
        "criterion = nn.CrossEntropyLoss()\n",
        "optimizer = optim.SGD(net.parameters(), lr=0.001, momentum=0.9)\n",
        "\n"
      ],
      "execution_count": 9,
      "outputs": []
    },
    {
      "cell_type": "markdown",
      "metadata": {
        "id": "HSHJYPfLySS-"
      },
      "source": [
        "TPU 사용 코드 추가"
      ]
    },
    {
      "cell_type": "code",
      "metadata": {
        "id": "QZpCVAa9ytfF"
      },
      "source": [
        "import os\n",
        "assert os.environ['COLAB_TPU_ADDR'], 'Make sure to select TPU from Edit > Notebook settings > Hardware accelerator'"
      ],
      "execution_count": 1,
      "outputs": []
    },
    {
      "cell_type": "code",
      "metadata": {
        "id": "X3QHVrrLzjDH",
        "outputId": "e981bfe2-c69d-4df5-c4d7-2678817df5a7",
        "colab": {
          "base_uri": "https://localhost:8080/",
          "height": 566
        }
      },
      "source": [
        "!pip install cloud-tpu-client==0.10 https://storage.googleapis.com/tpu-pytorch/wheels/torch_xla-1.6-cp36-cp36m-linux_x86_64.whl"
      ],
      "execution_count": 2,
      "outputs": [
        {
          "output_type": "stream",
          "text": [
            "Collecting cloud-tpu-client==0.10\n",
            "  Downloading https://files.pythonhosted.org/packages/56/9f/7b1958c2886db06feb5de5b2c191096f9e619914b6c31fdf93999fdbbd8b/cloud_tpu_client-0.10-py3-none-any.whl\n",
            "Collecting torch-xla==1.6\n",
            "\u001b[?25l  Downloading https://storage.googleapis.com/tpu-pytorch/wheels/torch_xla-1.6-cp36-cp36m-linux_x86_64.whl (133.2MB)\n",
            "\u001b[K     |████████████████████████████████| 133.2MB 93kB/s \n",
            "\u001b[?25hRequirement already satisfied: oauth2client in /usr/local/lib/python3.6/dist-packages (from cloud-tpu-client==0.10) (4.1.3)\n",
            "Collecting google-api-python-client==1.8.0\n",
            "\u001b[?25l  Downloading https://files.pythonhosted.org/packages/9a/b4/a955f393b838bc47cbb6ae4643b9d0f90333d3b4db4dc1e819f36aad18cc/google_api_python_client-1.8.0-py3-none-any.whl (57kB)\n",
            "\u001b[K     |████████████████████████████████| 61kB 2.8MB/s \n",
            "\u001b[?25hRequirement already satisfied: six>=1.6.1 in /usr/local/lib/python3.6/dist-packages (from oauth2client->cloud-tpu-client==0.10) (1.15.0)\n",
            "Requirement already satisfied: pyasn1>=0.1.7 in /usr/local/lib/python3.6/dist-packages (from oauth2client->cloud-tpu-client==0.10) (0.4.8)\n",
            "Requirement already satisfied: httplib2>=0.9.1 in /usr/local/lib/python3.6/dist-packages (from oauth2client->cloud-tpu-client==0.10) (0.17.4)\n",
            "Requirement already satisfied: pyasn1-modules>=0.0.5 in /usr/local/lib/python3.6/dist-packages (from oauth2client->cloud-tpu-client==0.10) (0.2.8)\n",
            "Requirement already satisfied: rsa>=3.1.4 in /usr/local/lib/python3.6/dist-packages (from oauth2client->cloud-tpu-client==0.10) (4.6)\n",
            "Requirement already satisfied: uritemplate<4dev,>=3.0.0 in /usr/local/lib/python3.6/dist-packages (from google-api-python-client==1.8.0->cloud-tpu-client==0.10) (3.0.1)\n",
            "Requirement already satisfied: google-api-core<2dev,>=1.13.0 in /usr/local/lib/python3.6/dist-packages (from google-api-python-client==1.8.0->cloud-tpu-client==0.10) (1.16.0)\n",
            "Requirement already satisfied: google-auth-httplib2>=0.0.3 in /usr/local/lib/python3.6/dist-packages (from google-api-python-client==1.8.0->cloud-tpu-client==0.10) (0.0.4)\n",
            "Requirement already satisfied: google-auth>=1.4.1 in /usr/local/lib/python3.6/dist-packages (from google-api-python-client==1.8.0->cloud-tpu-client==0.10) (1.17.2)\n",
            "Requirement already satisfied: protobuf>=3.4.0 in /usr/local/lib/python3.6/dist-packages (from google-api-core<2dev,>=1.13.0->google-api-python-client==1.8.0->cloud-tpu-client==0.10) (3.12.4)\n",
            "Requirement already satisfied: googleapis-common-protos<2.0dev,>=1.6.0 in /usr/local/lib/python3.6/dist-packages (from google-api-core<2dev,>=1.13.0->google-api-python-client==1.8.0->cloud-tpu-client==0.10) (1.52.0)\n",
            "Requirement already satisfied: pytz in /usr/local/lib/python3.6/dist-packages (from google-api-core<2dev,>=1.13.0->google-api-python-client==1.8.0->cloud-tpu-client==0.10) (2018.9)\n",
            "Requirement already satisfied: setuptools>=34.0.0 in /usr/local/lib/python3.6/dist-packages (from google-api-core<2dev,>=1.13.0->google-api-python-client==1.8.0->cloud-tpu-client==0.10) (50.3.0)\n",
            "Requirement already satisfied: requests<3.0.0dev,>=2.18.0 in /usr/local/lib/python3.6/dist-packages (from google-api-core<2dev,>=1.13.0->google-api-python-client==1.8.0->cloud-tpu-client==0.10) (2.23.0)\n",
            "Requirement already satisfied: cachetools<5.0,>=2.0.0 in /usr/local/lib/python3.6/dist-packages (from google-auth>=1.4.1->google-api-python-client==1.8.0->cloud-tpu-client==0.10) (4.1.1)\n",
            "Requirement already satisfied: idna<3,>=2.5 in /usr/local/lib/python3.6/dist-packages (from requests<3.0.0dev,>=2.18.0->google-api-core<2dev,>=1.13.0->google-api-python-client==1.8.0->cloud-tpu-client==0.10) (2.10)\n",
            "Requirement already satisfied: certifi>=2017.4.17 in /usr/local/lib/python3.6/dist-packages (from requests<3.0.0dev,>=2.18.0->google-api-core<2dev,>=1.13.0->google-api-python-client==1.8.0->cloud-tpu-client==0.10) (2020.6.20)\n",
            "Requirement already satisfied: chardet<4,>=3.0.2 in /usr/local/lib/python3.6/dist-packages (from requests<3.0.0dev,>=2.18.0->google-api-core<2dev,>=1.13.0->google-api-python-client==1.8.0->cloud-tpu-client==0.10) (3.0.4)\n",
            "Requirement already satisfied: urllib3!=1.25.0,!=1.25.1,<1.26,>=1.21.1 in /usr/local/lib/python3.6/dist-packages (from requests<3.0.0dev,>=2.18.0->google-api-core<2dev,>=1.13.0->google-api-python-client==1.8.0->cloud-tpu-client==0.10) (1.24.3)\n",
            "Installing collected packages: google-api-python-client, cloud-tpu-client, torch-xla\n",
            "  Found existing installation: google-api-python-client 1.7.12\n",
            "    Uninstalling google-api-python-client-1.7.12:\n",
            "      Successfully uninstalled google-api-python-client-1.7.12\n",
            "Successfully installed cloud-tpu-client-0.10 google-api-python-client-1.8.0 torch-xla-1.6\n"
          ],
          "name": "stdout"
        }
      ]
    },
    {
      "cell_type": "code",
      "metadata": {
        "id": "Z2gp59TjyRXw"
      },
      "source": [
        "import torch_xla\n",
        "import torch_xla.core.xla_model as xm\n",
        "\n",
        "\n",
        "device = xm.xla_device()\n",
        "\n",
        "\n"
      ],
      "execution_count": 13,
      "outputs": []
    },
    {
      "cell_type": "markdown",
      "metadata": {
        "id": "rtrajEgeaeoi"
      },
      "source": [
        "Training Network"
      ]
    },
    {
      "cell_type": "markdown",
      "metadata": {
        "id": "n6JNCw1qmrH3"
      },
      "source": [
        "Training"
      ]
    },
    {
      "cell_type": "code",
      "metadata": {
        "id": "h7dy8JcrmqoT",
        "outputId": "53ef6ee5-2be9-4f2e-f8c1-28a06c8e0bc6",
        "colab": {
          "base_uri": "https://localhost:8080/",
          "height": 1000
        }
      },
      "source": [
        "epochs = 50\n",
        "running_loss_history = []\n",
        "running_correct_history = []\n",
        "validation_running_loss_history = [] \n",
        "validation_running_correct_history = []\n",
        "\n",
        "for e in range(epochs):\n",
        "  \n",
        "  running_loss = 0.0\n",
        "  running_correct = 0.0\n",
        "  validation_running_loss = 0.0\n",
        "  validation_running_correct = 0.0\n",
        "  \n",
        "  for i, data in enumerate(trainloader, 0):\n",
        "    # data : list of [inputs, labels]\n",
        "    inputs, labels = data\n",
        "    outputs = net(inputs)\n",
        "    \n",
        "    \n",
        "\n",
        "    # TPU CODE\n",
        "\n",
        "    # net = net.to(device)\n",
        "    # input, labels = data\n",
        "    # input = input.to(device)\n",
        "    # labels = labels.to(device)\n",
        "    # outputs = net(input)\n",
        "\n",
        "\n",
        "    loss = criterion(outputs, labels)\n",
        "\n",
        "\n",
        "    optimizer.zero_grad()\n",
        "    loss.backward()\n",
        "    optimizer.step()\n",
        "    \n",
        "    _, preds = torch.max(outputs, 1)\n",
        "    \n",
        "    running_correct += torch.sum(preds == labels.data)\n",
        "    running_loss += loss.item()\n",
        "    \n",
        "\n",
        "  else:    \n",
        "    # 훈련팔 필요가 없으므로 메모리 절약\n",
        "    with torch.no_grad():\n",
        "      \n",
        "      for i, data in  enumerate(validation_loader, 0):\n",
        "        \n",
        "        val_input, val_label = data\n",
        "        val_outputs = net(val_input)\n",
        "\n",
        "        \n",
        "        # TPU CODE\n",
        "        # val_input, val_label = data\n",
        "        # net = net.to(device)\n",
        "        # val_input = val_input.to(device)\n",
        "        # val_label = val_label.to(device)\n",
        "        # val_outputs = net(val_outputs)\n",
        "\n",
        "\n",
        "\n",
        "\n",
        "        val_loss = criterion(val_outputs, val_label)\n",
        "        \n",
        "\n",
        "        _, val_preds = torch.max(val_outputs, 1)\n",
        "        validation_running_loss += val_loss.item()\n",
        "        validation_running_correct += torch.sum(val_preds == val_label.data) \n",
        "    \n",
        "    \n",
        "    epoch_loss = running_loss / len(trainloader)\n",
        "    epoch_acc = running_correct.float() / len(trainloader)\n",
        "    running_loss_history.append(epoch_loss)\n",
        "    running_correct_history.append(epoch_acc)\n",
        "    \n",
        "    val_epoch_loss = validation_running_loss / len(validation_loader)\n",
        "    val_epoch_acc = validation_running_correct.float() / len(validation_loader)\n",
        "    validation_running_loss_history.append(val_epoch_loss)\n",
        "    validation_running_correct_history.append(val_epoch_acc)\n",
        "    \n",
        "    print(\"===================================================\")\n",
        "    print(\"epoch: \", e + 1)\n",
        "    print(\"training loss: {:.5f}, acc: {:5f}\".format(epoch_loss, epoch_acc))\n",
        "    print(\"validation loss: {:.5f}, acc: {:5f}\".format(val_epoch_loss, val_epoch_acc))"
      ],
      "execution_count": 11,
      "outputs": [
        {
          "output_type": "stream",
          "text": [
            "===================================================\n",
            "epoch:  1\n",
            "training loss: 1.28307, acc: 54.004002\n",
            "validation loss: 1.28509, acc: 53.509998\n",
            "===================================================\n",
            "epoch:  2\n",
            "training loss: 1.25535, acc: 55.009998\n",
            "validation loss: 1.25705, acc: 54.709999\n",
            "===================================================\n",
            "epoch:  3\n",
            "training loss: 1.22743, acc: 56.198002\n",
            "validation loss: 1.23837, acc: 55.480000\n",
            "===================================================\n",
            "epoch:  4\n",
            "training loss: 1.19812, acc: 57.265999\n",
            "validation loss: 1.21238, acc: 57.189999\n",
            "===================================================\n",
            "epoch:  5\n",
            "training loss: 1.17136, acc: 58.279999\n",
            "validation loss: 1.18640, acc: 57.910000\n",
            "===================================================\n",
            "epoch:  6\n",
            "training loss: 1.14197, acc: 59.473999\n",
            "validation loss: 1.16003, acc: 59.080002\n",
            "===================================================\n",
            "epoch:  7\n",
            "training loss: 1.11928, acc: 60.382000\n",
            "validation loss: 1.14059, acc: 59.349998\n",
            "===================================================\n",
            "epoch:  8\n",
            "training loss: 1.09614, acc: 61.195999\n",
            "validation loss: 1.13205, acc: 59.740002\n",
            "===================================================\n",
            "epoch:  9\n",
            "training loss: 1.07375, acc: 62.046001\n",
            "validation loss: 1.11637, acc: 60.330002\n",
            "===================================================\n",
            "epoch:  10\n",
            "training loss: 1.05470, acc: 62.764000\n",
            "validation loss: 1.08600, acc: 62.000000\n",
            "===================================================\n",
            "epoch:  11\n",
            "training loss: 1.03220, acc: 63.680000\n",
            "validation loss: 1.06901, acc: 62.099998\n",
            "===================================================\n",
            "epoch:  12\n",
            "training loss: 1.01408, acc: 64.362000\n",
            "validation loss: 1.07988, acc: 61.439999\n",
            "===================================================\n",
            "epoch:  13\n",
            "training loss: 0.99614, acc: 64.975998\n",
            "validation loss: 1.05851, acc: 62.490002\n",
            "===================================================\n",
            "epoch:  14\n",
            "training loss: 0.97577, acc: 65.814003\n",
            "validation loss: 1.03071, acc: 63.590000\n",
            "===================================================\n",
            "epoch:  15\n",
            "training loss: 0.96342, acc: 66.141998\n",
            "validation loss: 1.02065, acc: 63.730000\n",
            "===================================================\n",
            "epoch:  16\n",
            "training loss: 0.93996, acc: 66.821999\n",
            "validation loss: 1.01798, acc: 64.059998\n",
            "===================================================\n",
            "epoch:  17\n",
            "training loss: 0.92745, acc: 67.304001\n",
            "validation loss: 0.98969, acc: 65.040001\n",
            "===================================================\n",
            "epoch:  18\n",
            "training loss: 0.90820, acc: 68.031998\n",
            "validation loss: 0.99326, acc: 65.220001\n",
            "===================================================\n",
            "epoch:  19\n",
            "training loss: 0.89405, acc: 68.482002\n",
            "validation loss: 0.98181, acc: 65.410004\n",
            "===================================================\n",
            "epoch:  20\n",
            "training loss: 0.87837, acc: 68.991997\n",
            "validation loss: 0.98530, acc: 65.330002\n",
            "===================================================\n",
            "epoch:  21\n",
            "training loss: 0.86308, acc: 69.613998\n",
            "validation loss: 0.97843, acc: 66.059998\n",
            "===================================================\n",
            "epoch:  22\n",
            "training loss: 0.84916, acc: 70.113998\n",
            "validation loss: 0.95864, acc: 66.220001\n",
            "===================================================\n",
            "epoch:  23\n",
            "training loss: 0.83893, acc: 70.699997\n",
            "validation loss: 0.96223, acc: 66.669998\n",
            "===================================================\n",
            "epoch:  24\n",
            "training loss: 0.81908, acc: 71.279999\n",
            "validation loss: 0.93336, acc: 67.309998\n",
            "===================================================\n",
            "epoch:  25\n",
            "training loss: 0.80532, acc: 72.071999\n",
            "validation loss: 0.93767, acc: 67.300003\n",
            "===================================================\n",
            "epoch:  26\n",
            "training loss: 0.79706, acc: 71.938004\n",
            "validation loss: 0.95881, acc: 66.510002\n",
            "===================================================\n",
            "epoch:  27\n",
            "training loss: 0.77699, acc: 72.916000\n",
            "validation loss: 0.92636, acc: 67.900002\n",
            "===================================================\n",
            "epoch:  28\n",
            "training loss: 0.76955, acc: 72.938004\n",
            "validation loss: 0.92022, acc: 68.190002\n",
            "===================================================\n",
            "epoch:  29\n",
            "training loss: 0.75785, acc: 73.545998\n",
            "validation loss: 0.92060, acc: 67.830002\n",
            "===================================================\n",
            "epoch:  30\n",
            "training loss: 0.74170, acc: 73.980003\n",
            "validation loss: 0.92631, acc: 68.260002\n",
            "===================================================\n",
            "epoch:  31\n",
            "training loss: 0.72993, acc: 74.101997\n",
            "validation loss: 0.92306, acc: 68.750000\n",
            "===================================================\n",
            "epoch:  32\n",
            "training loss: 0.71554, acc: 74.844002\n",
            "validation loss: 0.90992, acc: 68.949997\n",
            "===================================================\n",
            "epoch:  33\n",
            "training loss: 0.70341, acc: 75.388000\n",
            "validation loss: 0.91751, acc: 68.919998\n",
            "===================================================\n",
            "epoch:  34\n",
            "training loss: 0.69277, acc: 75.592003\n",
            "validation loss: 0.90394, acc: 69.050003\n",
            "===================================================\n",
            "epoch:  35\n",
            "training loss: 0.68146, acc: 76.167999\n",
            "validation loss: 0.90640, acc: 69.180000\n",
            "===================================================\n",
            "epoch:  36\n",
            "training loss: 0.66939, acc: 76.473999\n",
            "validation loss: 0.89657, acc: 69.120003\n",
            "===================================================\n",
            "epoch:  37\n",
            "training loss: 0.66159, acc: 76.458000\n",
            "validation loss: 0.91422, acc: 68.760002\n",
            "===================================================\n",
            "epoch:  38\n",
            "training loss: 0.64689, acc: 77.302002\n",
            "validation loss: 0.90135, acc: 69.419998\n",
            "===================================================\n",
            "epoch:  39\n",
            "training loss: 0.63856, acc: 77.473999\n",
            "validation loss: 0.89992, acc: 69.260002\n",
            "===================================================\n",
            "epoch:  40\n",
            "training loss: 0.62604, acc: 77.898003\n",
            "validation loss: 0.91088, acc: 69.250000\n",
            "===================================================\n",
            "epoch:  41\n",
            "training loss: 0.61361, acc: 78.575996\n",
            "validation loss: 0.89887, acc: 69.400002\n",
            "===================================================\n",
            "epoch:  42\n",
            "training loss: 0.60806, acc: 78.699997\n",
            "validation loss: 0.90664, acc: 69.480003\n",
            "===================================================\n",
            "epoch:  43\n",
            "training loss: 0.59167, acc: 79.269997\n",
            "validation loss: 0.90963, acc: 69.900002\n",
            "===================================================\n",
            "epoch:  44\n",
            "training loss: 0.58328, acc: 79.421997\n",
            "validation loss: 0.89415, acc: 70.650002\n",
            "===================================================\n",
            "epoch:  45\n",
            "training loss: 0.57498, acc: 79.792000\n",
            "validation loss: 0.90495, acc: 70.300003\n",
            "===================================================\n",
            "epoch:  46\n",
            "training loss: 0.56333, acc: 80.162003\n",
            "validation loss: 0.92187, acc: 69.959999\n",
            "===================================================\n",
            "epoch:  47\n",
            "training loss: 0.55140, acc: 80.419998\n",
            "validation loss: 0.92036, acc: 70.000000\n",
            "===================================================\n",
            "epoch:  48\n",
            "training loss: 0.54778, acc: 80.722000\n",
            "validation loss: 0.90451, acc: 70.480003\n",
            "===================================================\n",
            "epoch:  49\n",
            "training loss: 0.53467, acc: 81.141998\n",
            "validation loss: 0.93236, acc: 69.080002\n",
            "===================================================\n",
            "epoch:  50\n",
            "training loss: 0.52314, acc: 81.655998\n",
            "validation loss: 0.96560, acc: 68.860001\n"
          ],
          "name": "stdout"
        }
      ]
    },
    {
      "cell_type": "code",
      "metadata": {
        "id": "XsmZQ2ovUqLv"
      },
      "source": [
        ""
      ],
      "execution_count": null,
      "outputs": []
    },
    {
      "cell_type": "code",
      "metadata": {
        "id": "7iKEgiWVUqN4"
      },
      "source": [
        ""
      ],
      "execution_count": null,
      "outputs": []
    },
    {
      "cell_type": "code",
      "metadata": {
        "id": "ucsvSf1SUqP7"
      },
      "source": [
        ""
      ],
      "execution_count": null,
      "outputs": []
    },
    {
      "cell_type": "code",
      "metadata": {
        "id": "6jiXAqgtUqSD"
      },
      "source": [
        ""
      ],
      "execution_count": null,
      "outputs": []
    },
    {
      "cell_type": "code",
      "metadata": {
        "id": "2zS-agsyUqUF"
      },
      "source": [
        ""
      ],
      "execution_count": null,
      "outputs": []
    },
    {
      "cell_type": "code",
      "metadata": {
        "id": "Cyyni8pZN1Ck"
      },
      "source": [
        ""
      ],
      "execution_count": null,
      "outputs": []
    },
    {
      "cell_type": "code",
      "metadata": {
        "id": "le-1dbpIN1Ez"
      },
      "source": [
        ""
      ],
      "execution_count": null,
      "outputs": []
    }
  ]
}