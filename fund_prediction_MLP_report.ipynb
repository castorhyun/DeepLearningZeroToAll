{
  "nbformat": 4,
  "nbformat_minor": 0,
  "metadata": {
    "colab": {
      "name": "fund_prediction_MLP_report.ipynb",
      "provenance": [],
      "collapsed_sections": [],
      "authorship_tag": "ABX9TyMGVvjrLuUgfEetKSdGRLsL",
      "include_colab_link": true
    },
    "kernelspec": {
      "name": "python3",
      "display_name": "Python 3"
    }
  },
  "cells": [
    {
      "cell_type": "markdown",
      "metadata": {
        "id": "view-in-github",
        "colab_type": "text"
      },
      "source": [
        "<a href=\"https://colab.research.google.com/github/castorhyun/DeepLearningZeroToAll/blob/master/fund_prediction_MLP_report.ipynb\" target=\"_parent\"><img src=\"https://colab.research.google.com/assets/colab-badge.svg\" alt=\"Open In Colab\"/></a>"
      ]
    },
    {
      "cell_type": "code",
      "metadata": {
        "id": "9V5-FdLnVpOc",
        "colab_type": "code",
        "colab": {
          "base_uri": "https://localhost:8080/",
          "height": 120
        },
        "outputId": "198e6253-5159-400b-bdc5-0abb5e94954b"
      },
      "source": [
        "from google.colab import drive\n",
        "\n",
        "drive.mount('/content/gdrive')"
      ],
      "execution_count": 1,
      "outputs": [
        {
          "output_type": "stream",
          "text": [
            "Go to this URL in a browser: https://accounts.google.com/o/oauth2/auth?client_id=947318989803-6bn6qk8qdgf4n4g3pfee6491hc0brc4i.apps.googleusercontent.com&redirect_uri=urn%3aietf%3awg%3aoauth%3a2.0%3aoob&response_type=code&scope=email%20https%3a%2f%2fwww.googleapis.com%2fauth%2fdocs.test%20https%3a%2f%2fwww.googleapis.com%2fauth%2fdrive%20https%3a%2f%2fwww.googleapis.com%2fauth%2fdrive.photos.readonly%20https%3a%2f%2fwww.googleapis.com%2fauth%2fpeopleapi.readonly\n",
            "\n",
            "Enter your authorization code:\n",
            "··········\n",
            "Mounted at /content/gdrive\n"
          ],
          "name": "stdout"
        }
      ]
    },
    {
      "cell_type": "code",
      "metadata": {
        "id": "1WWvQ_HRWA92",
        "colab_type": "code",
        "colab": {
          "base_uri": "https://localhost:8080/",
          "height": 33
        },
        "outputId": "e4760e84-84ad-461c-dfd8-377c7207f9e2"
      },
      "source": [
        "cd /content/gdrive/My Drive/Colab Notebooks/0011.데이터모델링/Data_2017"
      ],
      "execution_count": 2,
      "outputs": [
        {
          "output_type": "stream",
          "text": [
            "/content/gdrive/My Drive/Colab Notebooks/0011.데이터모델링/Data_2017\n"
          ],
          "name": "stdout"
        }
      ]
    },
    {
      "cell_type": "markdown",
      "metadata": {
        "id": "Armr41OYWJxa",
        "colab_type": "text"
      },
      "source": [
        "라이브러리 import\n"
      ]
    },
    {
      "cell_type": "code",
      "metadata": {
        "id": "i_IFBGDLWIZW",
        "colab_type": "code",
        "colab": {}
      },
      "source": [
        "import pandas as pd\n"
      ],
      "execution_count": 3,
      "outputs": []
    },
    {
      "cell_type": "code",
      "metadata": {
        "id": "MbwSLS0_WA_6",
        "colab_type": "code",
        "colab": {}
      },
      "source": [
        "# 학습대상 데이터 Load\n",
        "data_in = pd.read_csv(\"cvt_201701.csv\")\n",
        "data_in = pd.concat([data_in, pd.read_csv(\"cvt_201702.csv\")], ignore_index=True)\n",
        "data_in = pd.concat([data_in, pd.read_csv(\"cvt_201703.csv\")], ignore_index=True)\n",
        "data_in = pd.concat([data_in, pd.read_csv(\"cvt_201704.csv\")], ignore_index=True)"
      ],
      "execution_count": 4,
      "outputs": []
    },
    {
      "cell_type": "markdown",
      "metadata": {
        "id": "vyHwmKufmV1Z",
        "colab_type": "text"
      },
      "source": [
        "거래금액 기준 75% 데이터로 축소 ( 거액거래건은 제외 - 법인거래관련 )"
      ]
    },
    {
      "cell_type": "code",
      "metadata": {
        "id": "L_wHevz1hvc3",
        "colab_type": "code",
        "colab": {}
      },
      "source": [
        "data_in = data_in[data_in['resv_amt'] < 3.000000e+05 ]"
      ],
      "execution_count": 5,
      "outputs": []
    },
    {
      "cell_type": "code",
      "metadata": {
        "id": "8CmPrPtJchln",
        "colab_type": "code",
        "colab": {
          "base_uri": "https://localhost:8080/",
          "height": 307
        },
        "outputId": "5780c45d-e137-4cf2-c1d0-3f9523b12369"
      },
      "source": [
        "data_in[data_in['cnt'] > 0].describe()"
      ],
      "execution_count": 6,
      "outputs": [
        {
          "output_type": "execute_result",
          "data": {
            "text/html": [
              "<div>\n",
              "<style scoped>\n",
              "    .dataframe tbody tr th:only-of-type {\n",
              "        vertical-align: middle;\n",
              "    }\n",
              "\n",
              "    .dataframe tbody tr th {\n",
              "        vertical-align: top;\n",
              "    }\n",
              "\n",
              "    .dataframe thead th {\n",
              "        text-align: right;\n",
              "    }\n",
              "</style>\n",
              "<table border=\"1\" class=\"dataframe\">\n",
              "  <thead>\n",
              "    <tr style=\"text-align: right;\">\n",
              "      <th></th>\n",
              "      <th>sno</th>\n",
              "      <th>age</th>\n",
              "      <th>postno</th>\n",
              "      <th>sincdt</th>\n",
              "      <th>early_cnt</th>\n",
              "      <th>mid_cnt</th>\n",
              "      <th>late_cnt</th>\n",
              "      <th>resv_amt</th>\n",
              "      <th>cnt</th>\n",
              "      <th>A0_cnt</th>\n",
              "      <th>C0_cnt</th>\n",
              "      <th>CK_cnt</th>\n",
              "      <th>D0_cnt</th>\n",
              "      <th>DT_cnt</th>\n",
              "      <th>G0_cnt</th>\n",
              "      <th>jibul_psb_jan</th>\n",
              "      <th>jan</th>\n",
              "      <th>bfmm_ac_jan</th>\n",
              "      <th>m_avjn</th>\n",
              "      <th>bfmm_ac_avjn</th>\n",
              "      <th>lm3_ac_avjn</th>\n",
              "      <th>lm6_ac_avjn</th>\n",
              "      <th>lm12_ac_avjn</th>\n",
              "      <th>jibul_psb_jan_1</th>\n",
              "      <th>jan_1</th>\n",
              "      <th>bfmm_ac_jan_1</th>\n",
              "      <th>m_avjn_1</th>\n",
              "      <th>bfmm_ac_avjn_1</th>\n",
              "      <th>lm3_ac_avjn_1</th>\n",
              "      <th>lm6_ac_avjn_1</th>\n",
              "      <th>lm12_ac_avjn_1</th>\n",
              "    </tr>\n",
              "  </thead>\n",
              "  <tbody>\n",
              "    <tr>\n",
              "      <th>count</th>\n",
              "      <td>79590.000000</td>\n",
              "      <td>79590.000000</td>\n",
              "      <td>79590.000000</td>\n",
              "      <td>7.959000e+04</td>\n",
              "      <td>79590.000000</td>\n",
              "      <td>79590.0</td>\n",
              "      <td>79590.0</td>\n",
              "      <td>79590.000000</td>\n",
              "      <td>79590.000000</td>\n",
              "      <td>79590.000000</td>\n",
              "      <td>79590.000000</td>\n",
              "      <td>79590.000000</td>\n",
              "      <td>79590.000000</td>\n",
              "      <td>79590.000000</td>\n",
              "      <td>79590.000000</td>\n",
              "      <td>7.959000e+04</td>\n",
              "      <td>7.959000e+04</td>\n",
              "      <td>7.959000e+04</td>\n",
              "      <td>7.959000e+04</td>\n",
              "      <td>7.959000e+04</td>\n",
              "      <td>7.959000e+04</td>\n",
              "      <td>7.959000e+04</td>\n",
              "      <td>7.959000e+04</td>\n",
              "      <td>7.959000e+04</td>\n",
              "      <td>7.959000e+04</td>\n",
              "      <td>7.959000e+04</td>\n",
              "      <td>7.959000e+04</td>\n",
              "      <td>7.959000e+04</td>\n",
              "      <td>7.959000e+04</td>\n",
              "      <td>7.959000e+04</td>\n",
              "      <td>7.959000e+04</td>\n",
              "    </tr>\n",
              "    <tr>\n",
              "      <th>mean</th>\n",
              "      <td>4982.938874</td>\n",
              "      <td>40.428898</td>\n",
              "      <td>20531.722742</td>\n",
              "      <td>2.017027e+07</td>\n",
              "      <td>1.057532</td>\n",
              "      <td>0.0</td>\n",
              "      <td>0.0</td>\n",
              "      <td>94671.219299</td>\n",
              "      <td>1.057532</td>\n",
              "      <td>0.288830</td>\n",
              "      <td>0.034703</td>\n",
              "      <td>0.000075</td>\n",
              "      <td>0.122993</td>\n",
              "      <td>0.609788</td>\n",
              "      <td>0.001143</td>\n",
              "      <td>-2.571666e+04</td>\n",
              "      <td>3.921352e+06</td>\n",
              "      <td>3.676365e+06</td>\n",
              "      <td>3.834619e+06</td>\n",
              "      <td>3.354078e+06</td>\n",
              "      <td>3.461713e+06</td>\n",
              "      <td>3.192273e+06</td>\n",
              "      <td>2.938545e+06</td>\n",
              "      <td>-2.915516e+04</td>\n",
              "      <td>3.894934e+06</td>\n",
              "      <td>3.651461e+06</td>\n",
              "      <td>3.807930e+06</td>\n",
              "      <td>3.331584e+06</td>\n",
              "      <td>3.438088e+06</td>\n",
              "      <td>3.173772e+06</td>\n",
              "      <td>2.927878e+06</td>\n",
              "    </tr>\n",
              "    <tr>\n",
              "      <th>std</th>\n",
              "      <td>2878.522471</td>\n",
              "      <td>12.885457</td>\n",
              "      <td>23710.514020</td>\n",
              "      <td>1.078082e+02</td>\n",
              "      <td>0.401400</td>\n",
              "      <td>0.0</td>\n",
              "      <td>0.0</td>\n",
              "      <td>60683.417372</td>\n",
              "      <td>0.401400</td>\n",
              "      <td>0.456949</td>\n",
              "      <td>0.197363</td>\n",
              "      <td>0.008682</td>\n",
              "      <td>0.406184</td>\n",
              "      <td>0.609785</td>\n",
              "      <td>0.034164</td>\n",
              "      <td>4.808150e+06</td>\n",
              "      <td>1.403401e+07</td>\n",
              "      <td>1.465386e+07</td>\n",
              "      <td>1.131697e+07</td>\n",
              "      <td>1.330633e+07</td>\n",
              "      <td>1.208067e+07</td>\n",
              "      <td>1.052432e+07</td>\n",
              "      <td>8.479121e+06</td>\n",
              "      <td>4.837397e+06</td>\n",
              "      <td>1.401285e+07</td>\n",
              "      <td>1.463142e+07</td>\n",
              "      <td>1.128883e+07</td>\n",
              "      <td>1.328778e+07</td>\n",
              "      <td>1.206090e+07</td>\n",
              "      <td>1.052425e+07</td>\n",
              "      <td>8.502025e+06</td>\n",
              "    </tr>\n",
              "    <tr>\n",
              "      <th>min</th>\n",
              "      <td>1.000000</td>\n",
              "      <td>0.000000</td>\n",
              "      <td>0.000000</td>\n",
              "      <td>2.017010e+07</td>\n",
              "      <td>1.000000</td>\n",
              "      <td>0.0</td>\n",
              "      <td>0.0</td>\n",
              "      <td>1.000000</td>\n",
              "      <td>1.000000</td>\n",
              "      <td>0.000000</td>\n",
              "      <td>0.000000</td>\n",
              "      <td>0.000000</td>\n",
              "      <td>0.000000</td>\n",
              "      <td>0.000000</td>\n",
              "      <td>0.000000</td>\n",
              "      <td>-1.887231e+08</td>\n",
              "      <td>0.000000e+00</td>\n",
              "      <td>0.000000e+00</td>\n",
              "      <td>0.000000e+00</td>\n",
              "      <td>0.000000e+00</td>\n",
              "      <td>0.000000e+00</td>\n",
              "      <td>0.000000e+00</td>\n",
              "      <td>0.000000e+00</td>\n",
              "      <td>-1.887231e+08</td>\n",
              "      <td>0.000000e+00</td>\n",
              "      <td>0.000000e+00</td>\n",
              "      <td>0.000000e+00</td>\n",
              "      <td>0.000000e+00</td>\n",
              "      <td>0.000000e+00</td>\n",
              "      <td>0.000000e+00</td>\n",
              "      <td>0.000000e+00</td>\n",
              "    </tr>\n",
              "    <tr>\n",
              "      <th>25%</th>\n",
              "      <td>2488.000000</td>\n",
              "      <td>31.000000</td>\n",
              "      <td>7065.000000</td>\n",
              "      <td>2.017021e+07</td>\n",
              "      <td>1.000000</td>\n",
              "      <td>0.0</td>\n",
              "      <td>0.0</td>\n",
              "      <td>49500.000000</td>\n",
              "      <td>1.000000</td>\n",
              "      <td>0.000000</td>\n",
              "      <td>0.000000</td>\n",
              "      <td>0.000000</td>\n",
              "      <td>0.000000</td>\n",
              "      <td>0.000000</td>\n",
              "      <td>0.000000</td>\n",
              "      <td>0.000000e+00</td>\n",
              "      <td>4.309475e+04</td>\n",
              "      <td>1.062650e+04</td>\n",
              "      <td>1.622002e+05</td>\n",
              "      <td>7.972000e+04</td>\n",
              "      <td>1.750948e+05</td>\n",
              "      <td>1.781100e+05</td>\n",
              "      <td>1.892415e+05</td>\n",
              "      <td>0.000000e+00</td>\n",
              "      <td>3.681700e+04</td>\n",
              "      <td>8.691000e+03</td>\n",
              "      <td>1.479560e+05</td>\n",
              "      <td>6.957450e+04</td>\n",
              "      <td>1.601238e+05</td>\n",
              "      <td>1.661125e+05</td>\n",
              "      <td>1.783090e+05</td>\n",
              "    </tr>\n",
              "    <tr>\n",
              "      <th>50%</th>\n",
              "      <td>4968.000000</td>\n",
              "      <td>40.000000</td>\n",
              "      <td>14543.000000</td>\n",
              "      <td>2.017031e+07</td>\n",
              "      <td>1.000000</td>\n",
              "      <td>0.0</td>\n",
              "      <td>0.0</td>\n",
              "      <td>100000.000000</td>\n",
              "      <td>1.000000</td>\n",
              "      <td>0.000000</td>\n",
              "      <td>0.000000</td>\n",
              "      <td>0.000000</td>\n",
              "      <td>0.000000</td>\n",
              "      <td>1.000000</td>\n",
              "      <td>0.000000</td>\n",
              "      <td>0.000000e+00</td>\n",
              "      <td>6.551640e+05</td>\n",
              "      <td>4.821270e+05</td>\n",
              "      <td>8.550335e+05</td>\n",
              "      <td>6.260925e+05</td>\n",
              "      <td>8.346425e+05</td>\n",
              "      <td>8.085405e+05</td>\n",
              "      <td>7.963185e+05</td>\n",
              "      <td>0.000000e+00</td>\n",
              "      <td>6.345660e+05</td>\n",
              "      <td>4.550230e+05</td>\n",
              "      <td>8.366155e+05</td>\n",
              "      <td>6.090590e+05</td>\n",
              "      <td>8.145625e+05</td>\n",
              "      <td>7.935560e+05</td>\n",
              "      <td>7.804990e+05</td>\n",
              "    </tr>\n",
              "    <tr>\n",
              "      <th>75%</th>\n",
              "      <td>7454.000000</td>\n",
              "      <td>49.000000</td>\n",
              "      <td>28403.000000</td>\n",
              "      <td>2.017033e+07</td>\n",
              "      <td>1.000000</td>\n",
              "      <td>0.0</td>\n",
              "      <td>0.0</td>\n",
              "      <td>100000.000000</td>\n",
              "      <td>1.000000</td>\n",
              "      <td>1.000000</td>\n",
              "      <td>0.000000</td>\n",
              "      <td>0.000000</td>\n",
              "      <td>0.000000</td>\n",
              "      <td>1.000000</td>\n",
              "      <td>0.000000</td>\n",
              "      <td>0.000000e+00</td>\n",
              "      <td>3.022105e+06</td>\n",
              "      <td>2.579874e+06</td>\n",
              "      <td>3.173725e+06</td>\n",
              "      <td>2.409728e+06</td>\n",
              "      <td>2.864028e+06</td>\n",
              "      <td>2.645294e+06</td>\n",
              "      <td>2.556414e+06</td>\n",
              "      <td>0.000000e+00</td>\n",
              "      <td>3.001719e+06</td>\n",
              "      <td>2.543138e+06</td>\n",
              "      <td>3.149016e+06</td>\n",
              "      <td>2.381371e+06</td>\n",
              "      <td>2.837709e+06</td>\n",
              "      <td>2.630734e+06</td>\n",
              "      <td>2.543120e+06</td>\n",
              "    </tr>\n",
              "    <tr>\n",
              "      <th>max</th>\n",
              "      <td>9999.000000</td>\n",
              "      <td>94.000000</td>\n",
              "      <td>791080.000000</td>\n",
              "      <td>2.017043e+07</td>\n",
              "      <td>20.000000</td>\n",
              "      <td>0.0</td>\n",
              "      <td>0.0</td>\n",
              "      <td>298901.000000</td>\n",
              "      <td>20.000000</td>\n",
              "      <td>4.000000</td>\n",
              "      <td>5.000000</td>\n",
              "      <td>1.000000</td>\n",
              "      <td>18.000000</td>\n",
              "      <td>20.000000</td>\n",
              "      <td>2.000000</td>\n",
              "      <td>6.703064e+08</td>\n",
              "      <td>1.187801e+09</td>\n",
              "      <td>1.038853e+09</td>\n",
              "      <td>5.586150e+08</td>\n",
              "      <td>1.129549e+09</td>\n",
              "      <td>1.011125e+09</td>\n",
              "      <td>8.248434e+08</td>\n",
              "      <td>4.091168e+08</td>\n",
              "      <td>6.703064e+08</td>\n",
              "      <td>1.187801e+09</td>\n",
              "      <td>1.038853e+09</td>\n",
              "      <td>5.586150e+08</td>\n",
              "      <td>1.129549e+09</td>\n",
              "      <td>1.011125e+09</td>\n",
              "      <td>8.248434e+08</td>\n",
              "      <td>4.091168e+08</td>\n",
              "    </tr>\n",
              "  </tbody>\n",
              "</table>\n",
              "</div>"
            ],
            "text/plain": [
              "                sno           age  ...  lm6_ac_avjn_1  lm12_ac_avjn_1\n",
              "count  79590.000000  79590.000000  ...   7.959000e+04    7.959000e+04\n",
              "mean    4982.938874     40.428898  ...   3.173772e+06    2.927878e+06\n",
              "std     2878.522471     12.885457  ...   1.052425e+07    8.502025e+06\n",
              "min        1.000000      0.000000  ...   0.000000e+00    0.000000e+00\n",
              "25%     2488.000000     31.000000  ...   1.661125e+05    1.783090e+05\n",
              "50%     4968.000000     40.000000  ...   7.935560e+05    7.804990e+05\n",
              "75%     7454.000000     49.000000  ...   2.630734e+06    2.543120e+06\n",
              "max     9999.000000     94.000000  ...   8.248434e+08    4.091168e+08\n",
              "\n",
              "[8 rows x 31 columns]"
            ]
          },
          "metadata": {
            "tags": []
          },
          "execution_count": 6
        }
      ]
    },
    {
      "cell_type": "code",
      "metadata": {
        "id": "lE7GtqkEhE8N",
        "colab_type": "code",
        "colab": {
          "base_uri": "https://localhost:8080/",
          "height": 666
        },
        "outputId": "88cc60a4-af35-4cb0-b4ed-43d3bb78c126"
      },
      "source": [
        "data_in[data_in['cnt'] > 0].info()"
      ],
      "execution_count": null,
      "outputs": [
        {
          "output_type": "stream",
          "text": [
            "<class 'pandas.core.frame.DataFrame'>\n",
            "Int64Index: 110863 entries, 18 to 1526610\n",
            "Data columns (total 32 columns):\n",
            " #   Column           Non-Null Count   Dtype \n",
            "---  ------           --------------   ----- \n",
            " 0   sno              110863 non-null  int64 \n",
            " 1   age              110863 non-null  int64 \n",
            " 2   postno           110863 non-null  int64 \n",
            " 3   trxMM            110863 non-null  object\n",
            " 4   sincdt           110863 non-null  int64 \n",
            " 5   early_cnt        110863 non-null  int64 \n",
            " 6   mid_cnt          110863 non-null  int64 \n",
            " 7   late_cnt         110863 non-null  int64 \n",
            " 8   resv_amt         110863 non-null  int64 \n",
            " 9   cnt              110863 non-null  int64 \n",
            " 10  A0_cnt           110863 non-null  int64 \n",
            " 11  C0_cnt           110863 non-null  int64 \n",
            " 12  CK_cnt           110863 non-null  int64 \n",
            " 13  D0_cnt           110863 non-null  int64 \n",
            " 14  DT_cnt           110863 non-null  int64 \n",
            " 15  G0_cnt           110863 non-null  int64 \n",
            " 16  jibul_psb_jan    110863 non-null  int64 \n",
            " 17  jan              110863 non-null  int64 \n",
            " 18  bfmm_ac_jan      110863 non-null  int64 \n",
            " 19  m_avjn           110863 non-null  int64 \n",
            " 20  bfmm_ac_avjn     110863 non-null  int64 \n",
            " 21  lm3_ac_avjn      110863 non-null  int64 \n",
            " 22  lm6_ac_avjn      110863 non-null  int64 \n",
            " 23  lm12_ac_avjn     110863 non-null  int64 \n",
            " 24  jibul_psb_jan_1  110863 non-null  int64 \n",
            " 25  jan_1            110863 non-null  int64 \n",
            " 26  bfmm_ac_jan_1    110863 non-null  int64 \n",
            " 27  m_avjn_1         110863 non-null  int64 \n",
            " 28  bfmm_ac_avjn_1   110863 non-null  int64 \n",
            " 29  lm3_ac_avjn_1    110863 non-null  int64 \n",
            " 30  lm6_ac_avjn_1    110863 non-null  int64 \n",
            " 31  lm12_ac_avjn_1   110863 non-null  int64 \n",
            "dtypes: int64(31), object(1)\n",
            "memory usage: 27.9+ MB\n"
          ],
          "name": "stdout"
        }
      ]
    },
    {
      "cell_type": "code",
      "metadata": {
        "id": "scHLu-fWFYRy",
        "colab_type": "code",
        "colab": {
          "base_uri": "https://localhost:8080/",
          "height": 33
        },
        "outputId": "43bd824a-3ab6-43bd-9f0f-1e97b468cae9"
      },
      "source": [
        "from tqdm import tqdm\n",
        "\n",
        "# 채널별 거래건수를 통해 입금여부 Label 로 설정\n",
        "# 각 거래채널별 거래건수를 합산 - 거래가 있는 경우 1 , 없으면 0\n",
        "trx_cnt = list(data_in['A0_cnt'] + data_in['C0_cnt'] + data_in['CK_cnt'] + data_in['D0_cnt'] + data_in['DT_cnt'] + data_in['G0_cnt'])\n",
        "\n",
        "ip_yn = []\n",
        "\n",
        "for i in tqdm(range(len(trx_cnt))):\n",
        "  if trx_cnt[i] > 0:\n",
        "    ip_yn.append(1)\n",
        "  else:\n",
        "    ip_yn.append(0)\n",
        "\n",
        "\n",
        "data_in['ip_yn'] = ip_yn"
      ],
      "execution_count": 7,
      "outputs": [
        {
          "output_type": "stream",
          "text": [
            "100%|██████████| 1495351/1495351 [00:00<00:00, 2439840.58it/s]\n"
          ],
          "name": "stderr"
        }
      ]
    },
    {
      "cell_type": "code",
      "metadata": {
        "id": "9SsdMtgUcWYb",
        "colab_type": "code",
        "colab": {}
      },
      "source": [
        "trx_df = data_in[data_in['ip_yn'] == 1]\n",
        "notrx_df = data_in[data_in['ip_yn'] == 0]\n"
      ],
      "execution_count": 8,
      "outputs": []
    },
    {
      "cell_type": "code",
      "metadata": {
        "id": "GuoMLCjEi66J",
        "colab_type": "code",
        "colab": {
          "base_uri": "https://localhost:8080/",
          "height": 290
        },
        "outputId": "47cfa59b-9e34-4330-ca48-b8b9a2d140db"
      },
      "source": [
        "# 데이터 라벨 분포 확인해보기\n",
        "data_in['ip_yn'].value_counts().plot(kind='bar')"
      ],
      "execution_count": 9,
      "outputs": [
        {
          "output_type": "execute_result",
          "data": {
            "text/plain": [
              "<matplotlib.axes._subplots.AxesSubplot at 0x7fa6e907a358>"
            ]
          },
          "metadata": {
            "tags": []
          },
          "execution_count": 9
        },
        {
          "output_type": "display_data",
          "data": {
            "image/png": "[encoded data removed]",
            "text/plain": [
              "<Figure size 432x288 with 1 Axes>"
            ]
          },
          "metadata": {
            "tags": [],
            "needs_background": "light"
          }
        }
      ]
    },
    {
      "cell_type": "code",
      "metadata": {
        "id": "rHelfuRZfW-_",
        "colab_type": "code",
        "colab": {
          "base_uri": "https://localhost:8080/",
          "height": 66
        },
        "outputId": "03704f87-25a2-424b-c156-73b52c6e8a14"
      },
      "source": [
        "data_in['ip_yn'].value_counts()"
      ],
      "execution_count": 10,
      "outputs": [
        {
          "output_type": "execute_result",
          "data": {
            "text/plain": [
              "0    1415761\n",
              "1      79590\n",
              "Name: ip_yn, dtype: int64"
            ]
          },
          "metadata": {
            "tags": []
          },
          "execution_count": 10
        }
      ]
    },
    {
      "cell_type": "markdown",
      "metadata": {
        "id": "cMAonCIcfUnT",
        "colab_type": "text"
      },
      "source": [
        ""
      ]
    },
    {
      "cell_type": "code",
      "metadata": {
        "id": "DnS0hTzyfUv7",
        "colab_type": "code",
        "colab": {}
      },
      "source": [
        ""
      ],
      "execution_count": null,
      "outputs": []
    },
    {
      "cell_type": "code",
      "metadata": {
        "id": "1kBC92_rlKcf",
        "colab_type": "code",
        "colab": {}
      },
      "source": [
        "# 학습데이터 비율 조정\n",
        "# 입금거래데이터 79,590\n",
        "# 비입금데이터 1,415,761\n",
        "\n",
        "filt_notrx_df = notrx_df.iloc[0:79590]\n",
        "\n",
        "new_train_data = pd.concat([trx_df, filt_notrx_df])\n",
        "new_train_data = new_train_data.sort_values(by=['sno'], axis=0, ascending=True)\n"
      ],
      "execution_count": 11,
      "outputs": []
    },
    {
      "cell_type": "code",
      "metadata": {
        "id": "9os9tC16muDF",
        "colab_type": "code",
        "colab": {
          "base_uri": "https://localhost:8080/",
          "height": 97
        },
        "outputId": "e2f613ab-c12c-4700-9cd9-995622c6f644"
      },
      "source": [
        "trx_df.head(1)"
      ],
      "execution_count": 13,
      "outputs": [
        {
          "output_type": "execute_result",
          "data": {
            "text/html": [
              "<div>\n",
              "<style scoped>\n",
              "    .dataframe tbody tr th:only-of-type {\n",
              "        vertical-align: middle;\n",
              "    }\n",
              "\n",
              "    .dataframe tbody tr th {\n",
              "        vertical-align: top;\n",
              "    }\n",
              "\n",
              "    .dataframe thead th {\n",
              "        text-align: right;\n",
              "    }\n",
              "</style>\n",
              "<table border=\"1\" class=\"dataframe\">\n",
              "  <thead>\n",
              "    <tr style=\"text-align: right;\">\n",
              "      <th></th>\n",
              "      <th>sno</th>\n",
              "      <th>age</th>\n",
              "      <th>postno</th>\n",
              "      <th>trxMM</th>\n",
              "      <th>sincdt</th>\n",
              "      <th>early_cnt</th>\n",
              "      <th>mid_cnt</th>\n",
              "      <th>late_cnt</th>\n",
              "      <th>resv_amt</th>\n",
              "      <th>cnt</th>\n",
              "      <th>A0_cnt</th>\n",
              "      <th>C0_cnt</th>\n",
              "      <th>CK_cnt</th>\n",
              "      <th>D0_cnt</th>\n",
              "      <th>DT_cnt</th>\n",
              "      <th>G0_cnt</th>\n",
              "      <th>jibul_psb_jan</th>\n",
              "      <th>jan</th>\n",
              "      <th>bfmm_ac_jan</th>\n",
              "      <th>m_avjn</th>\n",
              "      <th>bfmm_ac_avjn</th>\n",
              "      <th>lm3_ac_avjn</th>\n",
              "      <th>lm6_ac_avjn</th>\n",
              "      <th>lm12_ac_avjn</th>\n",
              "      <th>jibul_psb_jan_1</th>\n",
              "      <th>jan_1</th>\n",
              "      <th>bfmm_ac_jan_1</th>\n",
              "      <th>m_avjn_1</th>\n",
              "      <th>bfmm_ac_avjn_1</th>\n",
              "      <th>lm3_ac_avjn_1</th>\n",
              "      <th>lm6_ac_avjn_1</th>\n",
              "      <th>lm12_ac_avjn_1</th>\n",
              "      <th>ip_yn</th>\n",
              "    </tr>\n",
              "  </thead>\n",
              "  <tbody>\n",
              "    <tr>\n",
              "      <th>18</th>\n",
              "      <td>3925</td>\n",
              "      <td>27</td>\n",
              "      <td>5118</td>\n",
              "      <td>201701</td>\n",
              "      <td>20170118</td>\n",
              "      <td>1</td>\n",
              "      <td>0</td>\n",
              "      <td>0</td>\n",
              "      <td>50000</td>\n",
              "      <td>1</td>\n",
              "      <td>0</td>\n",
              "      <td>0</td>\n",
              "      <td>0</td>\n",
              "      <td>0</td>\n",
              "      <td>1</td>\n",
              "      <td>0</td>\n",
              "      <td>0</td>\n",
              "      <td>42294</td>\n",
              "      <td>81532</td>\n",
              "      <td>99841</td>\n",
              "      <td>125701</td>\n",
              "      <td>129017</td>\n",
              "      <td>123529</td>\n",
              "      <td>100314</td>\n",
              "      <td>0</td>\n",
              "      <td>42294</td>\n",
              "      <td>81532</td>\n",
              "      <td>99841</td>\n",
              "      <td>125701</td>\n",
              "      <td>129017</td>\n",
              "      <td>123529</td>\n",
              "      <td>100314</td>\n",
              "      <td>1</td>\n",
              "    </tr>\n",
              "  </tbody>\n",
              "</table>\n",
              "</div>"
            ],
            "text/plain": [
              "     sno  age  postno  ... lm6_ac_avjn_1  lm12_ac_avjn_1  ip_yn\n",
              "18  3925   27    5118  ...        123529          100314      1\n",
              "\n",
              "[1 rows x 33 columns]"
            ]
          },
          "metadata": {
            "tags": []
          },
          "execution_count": 13
        }
      ]
    },
    {
      "cell_type": "code",
      "metadata": {
        "id": "cFcJfjLSgFT0",
        "colab_type": "code",
        "colab": {}
      },
      "source": [
        "# 학습데이터 만들기 ver.2\n",
        "# 입금데이터 건수 줄이기\n",
        "\n",
        "x_train = pd.DataFrame()\n",
        "y_train = pd.DataFrame()\n",
        "\n",
        "x_train['sno'] = new_train_data['sno']\n",
        "x_train['age'] = new_train_data['age']\n",
        "x_train['postno'] = new_train_data['postno']\n",
        "\n",
        "\n",
        "x_train['jibul_psb_jan_1'] = new_train_data['jibul_psb_jan_1']\n",
        "x_train['jan_1'] = new_train_data['jan_1']\n",
        "x_train['bfmm_ac_jan_1'] = new_train_data['bfmm_ac_jan_1']\n",
        "x_train['m_avjn_1'] = new_train_data['m_avjn']\n",
        "x_train['bfmm_ac_avjn_1'] = new_train_data['bfmm_ac_avjn_1']\n",
        "x_train['lm3_ac_avjn_1'] = new_train_data['lm3_ac_avjn_1']\n",
        "x_train['lm6_ac_avjn_1'] = new_train_data['lm6_ac_avjn_1']\n",
        "x_train['lm12_ac_avjn_1'] = new_train_data['lm12_ac_avjn_1']\n",
        "\n",
        "y_train = new_train_data['ip_yn']"
      ],
      "execution_count": 36,
      "outputs": []
    },
    {
      "cell_type": "code",
      "metadata": {
        "id": "2uUYzv3ClpmB",
        "colab_type": "code",
        "colab": {
          "base_uri": "https://localhost:8080/",
          "height": 66
        },
        "outputId": "6e36b7d2-767f-4243-89f4-219e7d013563"
      },
      "source": [
        "y_train.value_counts()"
      ],
      "execution_count": 37,
      "outputs": [
        {
          "output_type": "execute_result",
          "data": {
            "text/plain": [
              "1    79590\n",
              "0    79590\n",
              "Name: ip_yn, dtype: int64"
            ]
          },
          "metadata": {
            "tags": []
          },
          "execution_count": 37
        }
      ]
    },
    {
      "cell_type": "code",
      "metadata": {
        "id": "ZCZ0NGHMnrEw",
        "colab_type": "code",
        "colab": {
          "base_uri": "https://localhost:8080/",
          "height": 406
        },
        "outputId": "7c56c9a4-8870-47aa-9613-228fae50e09a"
      },
      "source": [
        "x_train"
      ],
      "execution_count": 38,
      "outputs": [
        {
          "output_type": "execute_result",
          "data": {
            "text/html": [
              "<div>\n",
              "<style scoped>\n",
              "    .dataframe tbody tr th:only-of-type {\n",
              "        vertical-align: middle;\n",
              "    }\n",
              "\n",
              "    .dataframe tbody tr th {\n",
              "        vertical-align: top;\n",
              "    }\n",
              "\n",
              "    .dataframe thead th {\n",
              "        text-align: right;\n",
              "    }\n",
              "</style>\n",
              "<table border=\"1\" class=\"dataframe\">\n",
              "  <thead>\n",
              "    <tr style=\"text-align: right;\">\n",
              "      <th></th>\n",
              "      <th>sno</th>\n",
              "      <th>age</th>\n",
              "      <th>postno</th>\n",
              "      <th>jibul_psb_jan_1</th>\n",
              "      <th>jan_1</th>\n",
              "      <th>bfmm_ac_jan_1</th>\n",
              "      <th>m_avjn_1</th>\n",
              "      <th>bfmm_ac_avjn_1</th>\n",
              "      <th>lm3_ac_avjn_1</th>\n",
              "      <th>lm6_ac_avjn_1</th>\n",
              "      <th>lm12_ac_avjn_1</th>\n",
              "    </tr>\n",
              "  </thead>\n",
              "  <tbody>\n",
              "    <tr>\n",
              "      <th>63879</th>\n",
              "      <td>0</td>\n",
              "      <td>76</td>\n",
              "      <td>3743</td>\n",
              "      <td>0</td>\n",
              "      <td>0</td>\n",
              "      <td>0</td>\n",
              "      <td>0</td>\n",
              "      <td>0</td>\n",
              "      <td>0</td>\n",
              "      <td>0</td>\n",
              "      <td>0</td>\n",
              "    </tr>\n",
              "    <tr>\n",
              "      <th>42085</th>\n",
              "      <td>0</td>\n",
              "      <td>53</td>\n",
              "      <td>3941</td>\n",
              "      <td>117630</td>\n",
              "      <td>0</td>\n",
              "      <td>0</td>\n",
              "      <td>0</td>\n",
              "      <td>0</td>\n",
              "      <td>0</td>\n",
              "      <td>75333</td>\n",
              "      <td>37872</td>\n",
              "    </tr>\n",
              "    <tr>\n",
              "      <th>75033</th>\n",
              "      <td>0</td>\n",
              "      <td>38</td>\n",
              "      <td>63327</td>\n",
              "      <td>0</td>\n",
              "      <td>19921300</td>\n",
              "      <td>20306814</td>\n",
              "      <td>0</td>\n",
              "      <td>21808179</td>\n",
              "      <td>21498804</td>\n",
              "      <td>20381458</td>\n",
              "      <td>11550240</td>\n",
              "    </tr>\n",
              "    <tr>\n",
              "      <th>5868</th>\n",
              "      <td>0</td>\n",
              "      <td>65</td>\n",
              "      <td>21357</td>\n",
              "      <td>0</td>\n",
              "      <td>1932493</td>\n",
              "      <td>1940983</td>\n",
              "      <td>0</td>\n",
              "      <td>1406293</td>\n",
              "      <td>1418835</td>\n",
              "      <td>918979</td>\n",
              "      <td>945847</td>\n",
              "    </tr>\n",
              "    <tr>\n",
              "      <th>55531</th>\n",
              "      <td>0</td>\n",
              "      <td>53</td>\n",
              "      <td>3941</td>\n",
              "      <td>117630</td>\n",
              "      <td>0</td>\n",
              "      <td>0</td>\n",
              "      <td>0</td>\n",
              "      <td>0</td>\n",
              "      <td>0</td>\n",
              "      <td>75333</td>\n",
              "      <td>37872</td>\n",
              "    </tr>\n",
              "    <tr>\n",
              "      <th>...</th>\n",
              "      <td>...</td>\n",
              "      <td>...</td>\n",
              "      <td>...</td>\n",
              "      <td>...</td>\n",
              "      <td>...</td>\n",
              "      <td>...</td>\n",
              "      <td>...</td>\n",
              "      <td>...</td>\n",
              "      <td>...</td>\n",
              "      <td>...</td>\n",
              "      <td>...</td>\n",
              "    </tr>\n",
              "    <tr>\n",
              "      <th>218678</th>\n",
              "      <td>9999</td>\n",
              "      <td>10</td>\n",
              "      <td>6514</td>\n",
              "      <td>0</td>\n",
              "      <td>100345</td>\n",
              "      <td>200318</td>\n",
              "      <td>119676</td>\n",
              "      <td>109983</td>\n",
              "      <td>111177</td>\n",
              "      <td>73669</td>\n",
              "      <td>39287</td>\n",
              "    </tr>\n",
              "    <tr>\n",
              "      <th>10307</th>\n",
              "      <td>9999</td>\n",
              "      <td>24</td>\n",
              "      <td>7524</td>\n",
              "      <td>0</td>\n",
              "      <td>400069</td>\n",
              "      <td>176096</td>\n",
              "      <td>0</td>\n",
              "      <td>586626</td>\n",
              "      <td>603465</td>\n",
              "      <td>557097</td>\n",
              "      <td>896967</td>\n",
              "    </tr>\n",
              "    <tr>\n",
              "      <th>77122</th>\n",
              "      <td>9999</td>\n",
              "      <td>65</td>\n",
              "      <td>4790</td>\n",
              "      <td>984695</td>\n",
              "      <td>12203977</td>\n",
              "      <td>12527292</td>\n",
              "      <td>0</td>\n",
              "      <td>13448194</td>\n",
              "      <td>13652813</td>\n",
              "      <td>13520220</td>\n",
              "      <td>12496505</td>\n",
              "    </tr>\n",
              "    <tr>\n",
              "      <th>741749</th>\n",
              "      <td>9999</td>\n",
              "      <td>51</td>\n",
              "      <td>18440</td>\n",
              "      <td>0</td>\n",
              "      <td>6267341</td>\n",
              "      <td>0</td>\n",
              "      <td>302407</td>\n",
              "      <td>0</td>\n",
              "      <td>94082</td>\n",
              "      <td>46781</td>\n",
              "      <td>23198</td>\n",
              "    </tr>\n",
              "    <tr>\n",
              "      <th>874363</th>\n",
              "      <td>9999</td>\n",
              "      <td>65</td>\n",
              "      <td>6994</td>\n",
              "      <td>0</td>\n",
              "      <td>8419444</td>\n",
              "      <td>9754385</td>\n",
              "      <td>11266946</td>\n",
              "      <td>11564642</td>\n",
              "      <td>11851158</td>\n",
              "      <td>13674058</td>\n",
              "      <td>11048529</td>\n",
              "    </tr>\n",
              "  </tbody>\n",
              "</table>\n",
              "<p>159180 rows × 11 columns</p>\n",
              "</div>"
            ],
            "text/plain": [
              "         sno  age  postno  ...  lm3_ac_avjn_1  lm6_ac_avjn_1  lm12_ac_avjn_1\n",
              "63879      0   76    3743  ...              0              0               0\n",
              "42085      0   53    3941  ...              0          75333           37872\n",
              "75033      0   38   63327  ...       21498804       20381458        11550240\n",
              "5868       0   65   21357  ...        1418835         918979          945847\n",
              "55531      0   53    3941  ...              0          75333           37872\n",
              "...      ...  ...     ...  ...            ...            ...             ...\n",
              "218678  9999   10    6514  ...         111177          73669           39287\n",
              "10307   9999   24    7524  ...         603465         557097          896967\n",
              "77122   9999   65    4790  ...       13652813       13520220        12496505\n",
              "741749  9999   51   18440  ...          94082          46781           23198\n",
              "874363  9999   65    6994  ...       11851158       13674058        11048529\n",
              "\n",
              "[159180 rows x 11 columns]"
            ]
          },
          "metadata": {
            "tags": []
          },
          "execution_count": 38
        }
      ]
    },
    {
      "cell_type": "code",
      "metadata": {
        "id": "0o15BAmYJWJs",
        "colab_type": "code",
        "colab": {
          "base_uri": "https://localhost:8080/",
          "height": 278
        },
        "outputId": "8d4da65c-affa-4067-b425-bff9c1966e61"
      },
      "source": [
        "# 데이터 라벨 분포 확인해보기\n",
        "new_train_data['ip_yn'].value_counts().plot(kind='bar')"
      ],
      "execution_count": 19,
      "outputs": [
        {
          "output_type": "execute_result",
          "data": {
            "text/plain": [
              "<matplotlib.axes._subplots.AxesSubplot at 0x7fa6e895c5c0>"
            ]
          },
          "metadata": {
            "tags": []
          },
          "execution_count": 19
        },
        {
          "output_type": "display_data",
          "data": {
            "image/png": "[encoded data removed]",
            "text/plain": [
              "<Figure size 432x288 with 1 Axes>"
            ]
          },
          "metadata": {
            "tags": [],
            "needs_background": "light"
          }
        }
      ]
    },
    {
      "cell_type": "code",
      "metadata": {
        "id": "TMXe-_1zXuS6",
        "colab_type": "code",
        "colab": {}
      },
      "source": [
        "x_train_np = x_train.to_numpy()\n",
        "y_train_np = y_train.to_numpy()"
      ],
      "execution_count": 39,
      "outputs": []
    },
    {
      "cell_type": "markdown",
      "metadata": {
        "id": "qEGOY2HKFtdQ",
        "colab_type": "text"
      },
      "source": [
        "모델 학습하기\n"
      ]
    },
    {
      "cell_type": "code",
      "metadata": {
        "id": "cwuv3SmjWBHV",
        "colab_type": "code",
        "colab": {
          "base_uri": "https://localhost:8080/",
          "height": 33
        },
        "outputId": "22c549ee-2c93-4d6a-a6ed-acd13c392b10"
      },
      "source": [
        "# 0. 사용할 패키지 불러오기\n",
        "import numpy as np\n",
        "from keras.models import Sequential\n",
        "from keras.layers import Dense\n",
        "from tensorflow.keras import regularizers\n",
        "import random\n",
        "\n",
        "from sklearn.metrics import recall_score \n",
        "from sklearn.metrics import precision_score \n",
        "from sklearn.metrics import f1_score \n"
      ],
      "execution_count": 22,
      "outputs": [
        {
          "output_type": "stream",
          "text": [
            "Using TensorFlow backend.\n"
          ],
          "name": "stderr"
        }
      ]
    },
    {
      "cell_type": "code",
      "metadata": {
        "id": "VrE3jryeHqOk",
        "colab_type": "code",
        "colab": {}
      },
      "source": [
        "from keras import backend as K\n",
        "def recall(y_target, y_pred):\n",
        "    # clip(t, clip_value_min, clip_value_max) : clip_value_min~clip_value_max 이외 가장자리를 깎아 낸다\n",
        "    # round : 반올림한다\n",
        "    y_target_yn = K.round(K.clip(y_target, 0, 1)) # 실제값을 0(Negative) 또는 1(Positive)로 설정한다\n",
        "    y_pred_yn = K.round(K.clip(y_pred, 0, 1)) # 예측값을 0(Negative) 또는 1(Positive)로 설정한다\n",
        "\n",
        "    # True Positive는 실제 값과 예측 값이 모두 1(Positive)인 경우이다\n",
        "    count_true_positive = K.sum(y_target_yn * y_pred_yn) \n",
        "\n",
        "    # (True Positive + False Negative) = 실제 값이 1(Positive) 전체\n",
        "    count_true_positive_false_negative = K.sum(y_target_yn)\n",
        "\n",
        "    # Recall =  (True Positive) / (True Positive + False Negative)\n",
        "    # K.epsilon()는 'divide by zero error' 예방차원에서 작은 수를 더한다\n",
        "    recall = count_true_positive / (count_true_positive_false_negative + K.epsilon())\n",
        "\n",
        "    # return a single tensor value\n",
        "    return recall\n",
        "\n",
        "\n",
        "def precision(y_target, y_pred):\n",
        "    # clip(t, clip_value_min, clip_value_max) : clip_value_min~clip_value_max 이외 가장자리를 깎아 낸다\n",
        "    # round : 반올림한다\n",
        "    y_pred_yn = K.round(K.clip(y_pred, 0, 1)) # 예측값을 0(Negative) 또는 1(Positive)로 설정한다\n",
        "    y_target_yn = K.round(K.clip(y_target, 0, 1)) # 실제값을 0(Negative) 또는 1(Positive)로 설정한다\n",
        "\n",
        "    # True Positive는 실제 값과 예측 값이 모두 1(Positive)인 경우이다\n",
        "    count_true_positive = K.sum(y_target_yn * y_pred_yn) \n",
        "\n",
        "    # (True Positive + False Positive) = 예측 값이 1(Positive) 전체\n",
        "    count_true_positive_false_positive = K.sum(y_pred_yn)\n",
        "\n",
        "    # Precision = (True Positive) / (True Positive + False Positive)\n",
        "    # K.epsilon()는 'divide by zero error' 예방차원에서 작은 수를 더한다\n",
        "    precision = count_true_positive / (count_true_positive_false_positive + K.epsilon())\n",
        "\n",
        "    # return a single tensor value\n",
        "    return precision\n",
        "\n",
        "\n",
        "def f1score(y_target, y_pred):\n",
        "    _recall = recall(y_target, y_pred)\n",
        "    _precision = precision(y_target, y_pred)\n",
        "    # K.epsilon()는 'divide by zero error' 예방차원에서 작은 수를 더한다\n",
        "    _f1score = ( 2 * _recall * _precision) / (_recall + _precision+ K.epsilon())\n",
        "    \n",
        "    # return a single tensor value\n",
        "    return _f1score"
      ],
      "execution_count": 23,
      "outputs": []
    },
    {
      "cell_type": "code",
      "metadata": {
        "id": "ivhAoG-H2qDI",
        "colab_type": "code",
        "colab": {
          "base_uri": "https://localhost:8080/",
          "height": 386
        },
        "outputId": "5629e16b-07b7-4be7-bdad-c3fad1ea3659"
      },
      "source": [
        "\n",
        "# 2. 모델 구성하기\n",
        "model = Sequential()\n",
        "model.add(Dense(20, input_dim=11, activation='sigmoid'))\n",
        "model.add(Dense(1, activation='sigmoid'))\n",
        "\n",
        "# 3. 모델 학습과정 설정하기\n",
        "model.compile(optimizer='rmsprop', loss='binary_crossentropy', metrics=['accuracy', precision, recall, f1score])\n",
        "#model.compile(optimizer='rmsprop', loss='binary_crossentropy', metrics=['accuracy'])\n",
        "\n",
        "# 4. 모델 학습시키기\n",
        "hist = model.fit(x_train_np, y_train_np, epochs=10, batch_size=64,validation_split=0.2)"
      ],
      "execution_count": 41,
      "outputs": [
        {
          "output_type": "stream",
          "text": [
            "Train on 127344 samples, validate on 31836 samples\n",
            "Epoch 1/10\n",
            "127344/127344 [==============================] - 3s 21us/step - loss: 0.4188 - accuracy: 0.8183 - precision: 0.8555 - recall: 0.8090 - f1score: 0.8213 - val_loss: 0.3039 - val_accuracy: 0.8659 - val_precision: 0.9006 - val_recall: 0.8239 - val_f1score: 0.8563\n",
            "Epoch 2/10\n",
            "127344/127344 [==============================] - 3s 21us/step - loss: 0.2708 - accuracy: 0.8815 - precision: 0.8953 - recall: 0.8642 - f1score: 0.8777 - val_loss: 0.2703 - val_accuracy: 0.8924 - val_precision: 0.9379 - val_recall: 0.8404 - val_f1score: 0.8824\n",
            "Epoch 3/10\n",
            "127344/127344 [==============================] - 3s 21us/step - loss: 0.2456 - accuracy: 0.8970 - precision: 0.9249 - recall: 0.8645 - f1score: 0.8920 - val_loss: 0.2553 - val_accuracy: 0.8905 - val_precision: 0.9144 - val_recall: 0.8631 - val_f1score: 0.8842\n",
            "Epoch 4/10\n",
            "127344/127344 [==============================] - 3s 21us/step - loss: 0.2347 - accuracy: 0.8949 - precision: 0.9138 - recall: 0.8722 - f1score: 0.8907 - val_loss: 0.2511 - val_accuracy: 0.8874 - val_precision: 0.9205 - val_recall: 0.8500 - val_f1score: 0.8796\n",
            "Epoch 5/10\n",
            "127344/127344 [==============================] - 3s 21us/step - loss: 0.2510 - accuracy: 0.8885 - precision: 0.9150 - recall: 0.8567 - f1score: 0.8832 - val_loss: 0.2546 - val_accuracy: 0.8893 - val_precision: 0.9175 - val_recall: 0.8575 - val_f1score: 0.8825\n",
            "Epoch 6/10\n",
            "127344/127344 [==============================] - 3s 21us/step - loss: 0.2352 - accuracy: 0.8954 - precision: 0.9204 - recall: 0.8660 - f1score: 0.8908 - val_loss: 0.2521 - val_accuracy: 0.8956 - val_precision: 0.9438 - val_recall: 0.8417 - val_f1score: 0.8861\n",
            "Epoch 7/10\n",
            "127344/127344 [==============================] - 3s 21us/step - loss: 0.2234 - accuracy: 0.9015 - precision: 0.9329 - recall: 0.8656 - f1score: 0.8964 - val_loss: 0.2442 - val_accuracy: 0.9003 - val_precision: 0.9524 - val_recall: 0.8430 - val_f1score: 0.8907\n",
            "Epoch 8/10\n",
            "127344/127344 [==============================] - 3s 21us/step - loss: 0.2268 - accuracy: 0.9034 - precision: 0.9443 - recall: 0.8575 - f1score: 0.8973 - val_loss: 0.2377 - val_accuracy: 0.9020 - val_precision: 0.9586 - val_recall: 0.8417 - val_f1score: 0.8929\n",
            "Epoch 9/10\n",
            "127344/127344 [==============================] - 3s 21us/step - loss: 0.2099 - accuracy: 0.9077 - precision: 0.9441 - recall: 0.8672 - f1score: 0.9024 - val_loss: 0.2168 - val_accuracy: 0.9037 - val_precision: 0.9343 - val_recall: 0.8707 - val_f1score: 0.8978\n",
            "Epoch 10/10\n",
            "127344/127344 [==============================] - 3s 22us/step - loss: 0.2023 - accuracy: 0.9097 - precision: 0.9358 - recall: 0.8797 - f1score: 0.9055 - val_loss: 0.2140 - val_accuracy: 0.9048 - val_precision: 0.9347 - val_recall: 0.8718 - val_f1score: 0.8986\n"
          ],
          "name": "stdout"
        }
      ]
    },
    {
      "cell_type": "code",
      "metadata": {
        "id": "NxBQVtaEjORS",
        "colab_type": "code",
        "colab": {
          "base_uri": "https://localhost:8080/",
          "height": 312
        },
        "outputId": "76a98d63-d19a-404f-ad8d-c48dbbc9d05d"
      },
      "source": [
        "from keras.utils import plot_model\n",
        "\n",
        "plot_model(model, to_file='./model_fund_MLP.png', show_layer_names=True, show_shapes=True)"
      ],
      "execution_count": 42,
      "outputs": [
        {
          "output_type": "execute_result",
          "data": {
            "image/png": "[encoded data removed]",
            "text/plain": [
              "<IPython.core.display.Image object>"
            ]
          },
          "metadata": {
            "tags": []
          },
          "execution_count": 42
        }
      ]
    },
    {
      "cell_type": "code",
      "metadata": {
        "id": "NeKh1NOGp7jq",
        "colab_type": "code",
        "colab": {
          "base_uri": "https://localhost:8080/",
          "height": 283
        },
        "outputId": "7003b5ff-2d9a-4805-e954-0549489032bd"
      },
      "source": [
        "# 5. 학습과정 살펴보기\n",
        "%matplotlib inline\n",
        "import matplotlib.pyplot as plt\n",
        "\n",
        "fig, loss_ax = plt.subplots()\n",
        "\n",
        "acc_ax = loss_ax.twinx()\n",
        "prec_ax = loss_ax.twinx()\n",
        "recall_ax = loss_ax.twinx()\n",
        "f1_ax = loss_ax.twinx()\n",
        "\n",
        "loss_ax.set_ylim([0.0, 1.0])\n",
        "acc_ax.set_ylim([0.0, 1.0])\n",
        "\n",
        "prec_ax.set_ylim([0.0, 1.0])\n",
        "recall_ax.set_ylim([0.0, 1.0])\n",
        "f1_ax.set_ylim([0.0, 1.0])\n",
        "\n",
        "\n",
        "loss_ax.plot(hist.history['loss'], 'y', label='train loss')\n",
        "acc_ax.plot(hist.history['accuracy'], 'b', label='train acc')\n",
        "\n",
        "#prec_ax.plot(hist.history['precision'], 'p', label='train precision')\n",
        "#recall_ax.plot(hist.history['recall'], 'r', label='train recall')\n",
        "#f1_ax.plot(hist.history['f1score'], 'g', label='train f1score')\n",
        "\n",
        "loss_ax.set_xlabel('epoch')\n",
        "loss_ax.set_ylabel('loss')\n",
        "acc_ax.set_ylabel('accuracy')\n",
        "\n",
        "#prec_ax.set_ylabel('precision')\n",
        "#recall_ax.set_ylabel('recall')\n",
        "#f1_ax.set_ylabel('f1score')\n",
        "\n",
        "loss_ax.legend(loc='lower left')\n",
        "acc_ax.legend(loc='upper left')\n",
        "\n",
        "#prec_ax.legend(loc='upper left')\n",
        "#recall_ax.legend(loc='upper left')\n",
        "#f1_ax.legend(loc='upper left')\n",
        "\n",
        "\n",
        "plt.show()"
      ],
      "execution_count": 43,
      "outputs": [
        {
          "output_type": "display_data",
          "data": {
            "image/png": "[encoded data removed]",
            "text/plain": [
              "<Figure size 432x288 with 5 Axes>"
            ]
          },
          "metadata": {
            "tags": [],
            "needs_background": "light"
          }
        }
      ]
    },
    {
      "cell_type": "code",
      "metadata": {
        "id": "5QUwadsW2qFR",
        "colab_type": "code",
        "colab": {
          "base_uri": "https://localhost:8080/",
          "height": 33
        },
        "outputId": "ad739477-fa4b-4e44-fcfd-318aa7809a3d"
      },
      "source": [
        "# 평가데이터 만들기\n",
        "\n",
        "data_eval = pd.read_csv('cvt_201709.csv')\n",
        "data_eval = pd.concat([data_eval, pd.read_csv(\"cvt_201710.csv\")], ignore_index=True)\n",
        "data_eval = pd.concat([data_eval, pd.read_csv(\"cvt_201711.csv\")], ignore_index=True)\n",
        "data_eval = pd.concat([data_eval, pd.read_csv(\"cvt_201712.csv\")], ignore_index=True)\n",
        "\n",
        "from tqdm import tqdm\n",
        "\n",
        "# 각 거래채널별 거래건수를 합산 - 거래가 있는 경우 1 , 없으면 0\n",
        "trx_cnt = list(data_eval['A0_cnt'] + data_eval['C0_cnt'] + data_eval['CK_cnt'] + data_eval['D0_cnt'] + data_eval['DT_cnt'] + data_eval['G0_cnt'])\n",
        "\n",
        "ip_yn = []\n",
        "\n",
        "for i in tqdm(range(len(trx_cnt))):\n",
        "  if trx_cnt[i] > 0:\n",
        "    ip_yn.append(1)\n",
        "  else:\n",
        "    ip_yn.append(0)\n",
        "\n",
        "\n",
        "data_eval['ip_yn'] = ip_yn\n",
        "\n"
      ],
      "execution_count": 44,
      "outputs": [
        {
          "output_type": "stream",
          "text": [
            "100%|██████████| 1526624/1526624 [00:00<00:00, 2412047.55it/s]\n"
          ],
          "name": "stderr"
        }
      ]
    },
    {
      "cell_type": "code",
      "metadata": {
        "id": "t-8ygSM7vX9d",
        "colab_type": "code",
        "colab": {}
      },
      "source": [
        ""
      ],
      "execution_count": null,
      "outputs": []
    },
    {
      "cell_type": "code",
      "metadata": {
        "id": "JNHkY15MwClh",
        "colab_type": "code",
        "colab": {}
      },
      "source": [
        "# 평가데이터 만들기 - 비율조정\n",
        "\n",
        "eval_trx_df = data_eval[data_eval['ip_yn'] == 1]\n",
        "eval_notrx_df = data_eval[data_eval['ip_yn'] == 0]\n",
        "\n",
        "new_eval_data = pd.concat([eval_trx_df, eval_notrx_df])\n",
        "\n",
        "\n",
        "x_test = pd.DataFrame()\n",
        "y_test = pd.DataFrame()\n",
        "\n",
        "\n",
        "x_test['sno'] = new_eval_data['sno']\n",
        "x_test['age'] = new_eval_data['age']\n",
        "x_test['postno'] = new_eval_data['postno']\n",
        "\n",
        "x_test['jibul_psb_jan_1'] = new_eval_data['jibul_psb_jan_1']\n",
        "x_test['jan_1'] = new_eval_data['jan_1']\n",
        "x_test['bfmm_ac_jan_1'] = new_eval_data['bfmm_ac_jan_1']\n",
        "x_test['m_avjn_1'] = new_eval_data['m_avjn']\n",
        "x_test['bfmm_ac_avjn_1'] = new_eval_data['bfmm_ac_avjn_1']\n",
        "x_test['lm3_ac_avjn_1'] = new_eval_data['lm3_ac_avjn_1']\n",
        "x_test['lm6_ac_avjn_1'] = new_eval_data['lm6_ac_avjn_1']\n",
        "x_test['lm12_ac_avjn_1'] = new_eval_data['lm12_ac_avjn_1']\n",
        "\n",
        "y_test = new_eval_data['ip_yn']\n",
        "\n",
        "\n",
        "x_test_np = x_test.to_numpy()\n",
        "y_test_np = y_test.to_numpy()\n"
      ],
      "execution_count": 47,
      "outputs": []
    },
    {
      "cell_type": "code",
      "metadata": {
        "id": "Ga-c2Xgegja2",
        "colab_type": "code",
        "colab": {
          "base_uri": "https://localhost:8080/",
          "height": 50
        },
        "outputId": "5ebab392-a3cf-4269-8436-59ed57ae7294"
      },
      "source": [
        "# 학습모델 평가하기\n",
        "\n",
        "# 6. 모델 평가하기\n",
        "loss_and_metrics = model.evaluate(x_test_np, y_test_np, batch_size=64)\n",
        "print('loss_and_metrics : ' + str(loss_and_metrics))\n",
        "\n"
      ],
      "execution_count": 48,
      "outputs": [
        {
          "output_type": "stream",
          "text": [
            "1526624/1526624 [==============================] - 16s 10us/step\n",
            "loss_and_metrics : [0.18337343386904525, 0.9196409583091736, 0.16157877445220947, 0.14286454021930695, 0.15155211091041565]\n"
          ],
          "name": "stdout"
        }
      ]
    },
    {
      "cell_type": "code",
      "metadata": {
        "id": "sHUzRZ5yWBLv",
        "colab_type": "code",
        "colab": {}
      },
      "source": [
        ""
      ],
      "execution_count": null,
      "outputs": []
    }
  ]
}